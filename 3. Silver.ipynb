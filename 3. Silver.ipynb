{
 "cells": [
  {
   "cell_type": "code",
   "execution_count": 0,
   "metadata": {
    "application/vnd.databricks.v1+cell": {
     "cellMetadata": {
      "byteLimit": 2048000,
      "rowLimit": 10000
     },
     "inputWidgets": {},
     "nuid": "ea363924-5492-4e6c-8935-f60a0945824d",
     "showTitle": false,
     "tableResultSettingsMap": {},
     "title": ""
    }
   },
   "outputs": [],
   "source": [
    "from pyspark.sql import SparkSession\n",
    "\n",
    "spark = SparkSession.builder \\\n",
    "    .appName(\"hiv-project\") \\\n",
    "    .getOrCreate()"
   ]
  },
  {
   "cell_type": "code",
   "execution_count": 0,
   "metadata": {
    "application/vnd.databricks.v1+cell": {
     "cellMetadata": {
      "byteLimit": 2048000,
      "rowLimit": 10000
     },
     "inputWidgets": {},
     "nuid": "d83c8eae-c76a-458c-a513-63f7c7b5d988",
     "showTitle": false,
     "tableResultSettingsMap": {},
     "title": ""
    }
   },
   "outputs": [],
   "source": [
    "%pip uninstall -y databricks_helpers exercise_ev_databricks_unit_tests\n",
    "%pip install git+https://github.com/data-derp/databricks_helpers#egg=databricks_helpers git+https://github.com/data-derp/exercise_ev_databricks_unit_tests#egg=exercise_ev_databricks_unit_tests"
   ]
  },
  {
   "cell_type": "code",
   "execution_count": 0,
   "metadata": {
    "application/vnd.databricks.v1+cell": {
     "cellMetadata": {
      "byteLimit": 2048000,
      "rowLimit": 10000
     },
     "inputWidgets": {},
     "nuid": "47d82a9a-b849-451d-8c57-e04909d92e98",
     "showTitle": false,
     "tableResultSettingsMap": {},
     "title": ""
    }
   },
   "outputs": [],
   "source": [
    "from databricks_helpers.databricks_helpers import DataDerpDatabricksHelpers\n",
    "exercise_name = \"hiv-project\"\n",
    "helpers = DataDerpDatabricksHelpers(dbutils, exercise_name)"
   ]
  },
  {
   "cell_type": "code",
   "execution_count": 0,
   "metadata": {
    "application/vnd.databricks.v1+cell": {
     "cellMetadata": {
      "byteLimit": 2048000,
      "rowLimit": 10000
     },
     "inputWidgets": {},
     "nuid": "ce9b44e9-226c-4b2f-b146-8dbee5fa9c55",
     "showTitle": false,
     "tableResultSettingsMap": {},
     "title": ""
    }
   },
   "outputs": [],
   "source": [
    "working_directory = helpers.working_directory()\n",
    "print(working_directory)"
   ]
  },
  {
   "cell_type": "markdown",
   "metadata": {
    "application/vnd.databricks.v1+cell": {
     "cellMetadata": {
      "byteLimit": 2048000,
      "rowLimit": 10000
     },
     "inputWidgets": {},
     "nuid": "c8c2be2e-306d-4bed-bf86-010add972353",
     "showTitle": false,
     "tableResultSettingsMap": {},
     "title": ""
    }
   },
   "source": [
    "# SILVER"
   ]
  },
  {
   "cell_type": "markdown",
   "metadata": {
    "application/vnd.databricks.v1+cell": {
     "cellMetadata": {
      "byteLimit": 2048000,
      "rowLimit": 10000
     },
     "inputWidgets": {},
     "nuid": "e89d12f3-2a62-4297-9407-8c53460894d4",
     "showTitle": false,
     "tableResultSettingsMap": {},
     "title": ""
    }
   },
   "source": [
    "## Read from Parquet"
   ]
  },
  {
   "cell_type": "code",
   "execution_count": 0,
   "metadata": {
    "application/vnd.databricks.v1+cell": {
     "cellMetadata": {
      "byteLimit": 2048000,
      "rowLimit": 10000
     },
     "inputWidgets": {},
     "nuid": "1563ca10-e2f6-4e2b-b618-092b858d02ed",
     "showTitle": false,
     "tableResultSettingsMap": {},
     "title": ""
    }
   },
   "outputs": [],
   "source": [
    "\n",
    "from pyspark.sql import DataFrame\n",
    "def read_from_parquet(df_name: str) -> DataFrame:\n",
    "    df_path = f\"{working_directory}/parquet/{df_name}\"\n",
    "    return spark.read.parquet(df_path)\n",
    "\n",
    "df_hiv_silver = read_from_parquet(\"df_hiv\")\n",
    "\n",
    "available_years = [2011, 2012, 2013, 2014, 2015, 2017, 2018] \n",
    "silver_year_dataframes = {}\n",
    "for year in available_years:\n",
    "    silver_year_dataframes[year] = read_from_parquet(f\"df_poverty_{year}\")\n",
    "\n",
    "\n"
   ]
  },
  {
   "cell_type": "code",
   "execution_count": 0,
   "metadata": {
    "application/vnd.databricks.v1+cell": {
     "cellMetadata": {
      "byteLimit": 2048000,
      "rowLimit": 10000
     },
     "inputWidgets": {},
     "nuid": "4527c10f-0a2d-4b05-b9c0-cea59199eb45",
     "showTitle": false,
     "tableResultSettingsMap": {
      "0": {
       "filterBlob": "{\"filterGroups\":[{\"enabled\":true,\"filterGroupId\":\"fg_24771dbc\",\"op\":\"OR\",\"filters\":[{\"filterId\":\"f_d7d47f6b\",\"enabled\":true,\"columnId\":\"Age\",\"dataType\":\"string\",\"filterType\":\"oneof\"}],\"local\":false,\"updatedAt\":1742230734463},{\"enabled\":true,\"filterGroupId\":\"fg_cd1fbaf1\",\"op\":\"OR\",\"filters\":[{\"filterId\":\"f_2056d28b\",\"enabled\":true,\"columnId\":\"Age\",\"dataType\":\"string\",\"filterType\":\"oneof\"}],\"local\":false,\"updatedAt\":1742230738857}],\"syncTimestamp\":1742230738857}",
       "tableResultIndex": 0
      }
     },
     "title": ""
    }
   },
   "outputs": [],
   "source": [
    "display(df_hiv_silver)"
   ]
  },
  {
   "cell_type": "markdown",
   "metadata": {
    "application/vnd.databricks.v1+cell": {
     "cellMetadata": {
      "byteLimit": 2048000,
      "rowLimit": 10000
     },
     "inputWidgets": {},
     "nuid": "9f084d44-6179-404b-9033-0c3f46a160d3",
     "showTitle": false,
     "tableResultSettingsMap": {},
     "title": ""
    }
   },
   "source": [
    "## Concat Poverty Datasets with years"
   ]
  },
  {
   "cell_type": "code",
   "execution_count": 0,
   "metadata": {
    "application/vnd.databricks.v1+cell": {
     "cellMetadata": {
      "byteLimit": 2048000,
      "rowLimit": 10000
     },
     "inputWidgets": {},
     "nuid": "faf2a989-b74b-4b3d-ae49-5f05fbbf8a04",
     "showTitle": false,
     "tableResultSettingsMap": {},
     "title": ""
    }
   },
   "outputs": [],
   "source": [
    "from pyspark.sql.functions import lit\n",
    "\n",
    "df_poverty_silver = None\n",
    "\n",
    "for year, df in silver_year_dataframes.items():\n",
    "    df_with_year = df.withColumn(\"year\", lit(year))\n",
    "    \n",
    "    if df_poverty_silver is None:\n",
    "        df_poverty_silver = df_with_year\n",
    "    else:\n",
    "        df_poverty_silver = df_poverty_silver.union(df_with_year)"
   ]
  },
  {
   "cell_type": "code",
   "execution_count": 0,
   "metadata": {
    "application/vnd.databricks.v1+cell": {
     "cellMetadata": {
      "byteLimit": 2048000,
      "rowLimit": 10000
     },
     "inputWidgets": {},
     "nuid": "7b275e74-2414-4997-8200-7a2145624688",
     "showTitle": false,
     "tableResultSettingsMap": {},
     "title": ""
    }
   },
   "outputs": [],
   "source": [
    "def get_shape(df):\n",
    "    return df.count(), len(df.columns)"
   ]
  },
  {
   "cell_type": "code",
   "execution_count": 0,
   "metadata": {
    "application/vnd.databricks.v1+cell": {
     "cellMetadata": {
      "byteLimit": 2048000,
      "rowLimit": 10000
     },
     "inputWidgets": {},
     "nuid": "61320d20-aecd-4c87-8043-866c7115f549",
     "showTitle": false,
     "tableResultSettingsMap": {},
     "title": ""
    }
   },
   "outputs": [],
   "source": [
    "get_shape(df_poverty_silver)"
   ]
  },
  {
   "cell_type": "code",
   "execution_count": 0,
   "metadata": {
    "application/vnd.databricks.v1+cell": {
     "cellMetadata": {
      "byteLimit": 2048000,
      "rowLimit": 10000
     },
     "inputWidgets": {},
     "nuid": "e612fa14-5bd0-4420-90ff-0545af8ff987",
     "showTitle": false,
     "tableResultSettingsMap": {},
     "title": ""
    }
   },
   "outputs": [],
   "source": [
    "display(df_poverty_silver)"
   ]
  },
  {
   "cell_type": "code",
   "execution_count": 0,
   "metadata": {
    "application/vnd.databricks.v1+cell": {
     "cellMetadata": {
      "byteLimit": 2048000,
      "rowLimit": 10000
     },
     "inputWidgets": {},
     "nuid": "35dba9ac-9f81-43e1-9c6b-a2bb5ade972f",
     "showTitle": false,
     "tableResultSettingsMap": {},
     "title": ""
    }
   },
   "outputs": [],
   "source": []
  },
  {
   "cell_type": "markdown",
   "metadata": {
    "application/vnd.databricks.v1+cell": {
     "cellMetadata": {
      "byteLimit": 2048000,
      "rowLimit": 10000
     },
     "inputWidgets": {},
     "nuid": "2217b447-3963-43ef-a12a-1e2b809ae21f",
     "showTitle": false,
     "tableResultSettingsMap": {},
     "title": ""
    }
   },
   "source": [
    "HIV Collapsed"
   ]
  },
  {
   "cell_type": "code",
   "execution_count": 0,
   "metadata": {
    "application/vnd.databricks.v1+cell": {
     "cellMetadata": {
      "byteLimit": 2048000,
      "rowLimit": 10000
     },
     "inputWidgets": {},
     "nuid": "f0bb6842-6723-44ef-8282-c7522386b799",
     "showTitle": false,
     "tableResultSettingsMap": {},
     "title": ""
    }
   },
   "outputs": [],
   "source": [
    "from pyspark.sql.functions import sum, avg\n",
    "\n",
    "df_hiv_collapsed = df_hiv_silver.groupBy(\"Year\", \"Borough\", \"Gender\", \"Age\", \"Race\").agg(\n",
    "    sum(\"HIV diagnoses\").alias(\"HIV diagnoses\"),\n",
    "    avg(\"HIV diagnosis rate\").alias(\"HIV diagnosis rate\"),\n",
    "    sum(\"Concurrent diagnoses\").alias(\"Concurrent diagnoses\"),\n",
    "    avg(\"% linked to care within 3 months\").alias(\"% linked to care within 3 months\"),\n",
    "    sum(\"AIDS diagnoses\").alias(\"AIDS diagnoses\"),\n",
    "    avg(\"AIDS diagnosis rate\").alias(\"AIDS diagnosis rate\"),\n",
    "    sum(\"PLWDHI prevalence\").alias(\"PLWDHI prevalence\"),\n",
    "    avg(\"% viral suppression\").alias(\"% viral suppression\"),\n",
    "    sum(\"Deaths\").alias(\"Deaths\"),\n",
    "    avg(\"Death rate\").alias(\"Death rate\"),\n",
    "    avg(\"HIV-related death rate\").alias(\"HIV-related death rate\"),\n",
    "    avg(\"Non-HIV-related death rate\").alias(\"Non-HIV-related death rate\")\n",
    ")\n"
   ]
  },
  {
   "cell_type": "code",
   "execution_count": 0,
   "metadata": {
    "application/vnd.databricks.v1+cell": {
     "cellMetadata": {
      "byteLimit": 2048000,
      "rowLimit": 10000
     },
     "inputWidgets": {},
     "nuid": "30dad329-f291-4bdd-9702-fb71444f6809",
     "showTitle": false,
     "tableResultSettingsMap": {},
     "title": ""
    }
   },
   "outputs": [],
   "source": [
    "get_shape(df_hiv_collapsed)"
   ]
  },
  {
   "cell_type": "code",
   "execution_count": 0,
   "metadata": {
    "application/vnd.databricks.v1+cell": {
     "cellMetadata": {
      "byteLimit": 2048000,
      "rowLimit": 10000
     },
     "inputWidgets": {},
     "nuid": "c3e444b1-f607-418b-aaa2-a72b9c22c18f",
     "showTitle": false,
     "tableResultSettingsMap": {
      "0": {
       "filterBlob": "{\"filterGroups\":[{\"enabled\":true,\"filterGroupId\":\"fg_f1a1c836\",\"op\":\"OR\",\"filters\":[{\"filterId\":\"f_9ba0c4c1\",\"enabled\":true,\"columnId\":\"Year\",\"dataType\":\"integer\",\"filterType\":\"oneof\"}],\"local\":false,\"updatedAt\":1742231466162},{\"enabled\":true,\"filterGroupId\":\"fg_7c925779\",\"op\":\"OR\",\"filters\":[{\"filterId\":\"f_d94972d9\",\"enabled\":true,\"columnId\":\"Year\",\"dataType\":\"integer\",\"filterType\":\"oneof\"}],\"local\":false,\"updatedAt\":1742231524090}],\"syncTimestamp\":1742231524090}",
       "tableResultIndex": 0
      }
     },
     "title": ""
    }
   },
   "outputs": [],
   "source": [
    "display(df_hiv_collapsed)"
   ]
  },
  {
   "cell_type": "markdown",
   "metadata": {
    "application/vnd.databricks.v1+cell": {
     "cellMetadata": {
      "byteLimit": 2048000,
      "rowLimit": 10000
     },
     "inputWidgets": {},
     "nuid": "cc9790af-d70d-44ff-a43b-4079823ae57b",
     "showTitle": false,
     "tableResultSettingsMap": {},
     "title": ""
    }
   },
   "source": [
    "## AGGREGATIONS YEAR - BORO - GENDER - RACE - SED - AGE"
   ]
  },
  {
   "cell_type": "code",
   "execution_count": 0,
   "metadata": {
    "application/vnd.databricks.v1+cell": {
     "cellMetadata": {
      "byteLimit": 2048000,
      "rowLimit": 10000
     },
     "inputWidgets": {},
     "nuid": "4b283a47-9ea0-417a-b443-1de3256fc918",
     "showTitle": false,
     "tableResultSettingsMap": {},
     "title": ""
    }
   },
   "outputs": [],
   "source": [
    "from pyspark.sql import functions as F\n",
    "\n",
    "def group_age(df):\n",
    "    conditions = [\n",
    "        (df['AGEP'] >= 13) & (df['AGEP'] <= 19), '13-19',\n",
    "        (df['AGEP'] >= 18) & (df['AGEP'] <= 29), '18-29',\n",
    "        (df['AGEP'] >= 30) & (df['AGEP'] <= 39), '30-39',\n",
    "        (df['AGEP'] >= 40) & (df['AGEP'] <= 49), '40-49',\n",
    "        (df['AGEP'] >= 50) & (df['AGEP'] <= 59), '50-59',\n",
    "        (df['AGEP'] >= 60), '60+'\n",
    "    ]\n",
    "    df = df.withColumn('AGEP_group', F.when(conditions[0], conditions[1])\n",
    "                                  .when(conditions[2], conditions[3])\n",
    "                                  .when(conditions[4], conditions[5])\n",
    "                                  .when(conditions[6], conditions[7])\n",
    "                                  .when(conditions[8], conditions[9])\n",
    "                                  .when(conditions[10], conditions[11])\n",
    "                                  .otherwise('Unknown'))  \n",
    "    return df\n",
    "\n",
    "df_poverty_silver = group_age(df_poverty_silver)"
   ]
  },
  {
   "cell_type": "code",
   "execution_count": 0,
   "metadata": {
    "application/vnd.databricks.v1+cell": {
     "cellMetadata": {
      "byteLimit": 2048000,
      "rowLimit": 10000
     },
     "inputWidgets": {},
     "nuid": "e46103d4-153d-438b-a477-3b324ca6590a",
     "showTitle": false,
     "tableResultSettingsMap": {
      "0": {
       "filterBlob": "{\"filterGroups\":[],\"syncTimestamp\":1742230995083}",
       "tableResultIndex": 0
      }
     },
     "title": ""
    }
   },
   "outputs": [],
   "source": [
    "display(df_poverty_silver)"
   ]
  },
  {
   "cell_type": "code",
   "execution_count": 0,
   "metadata": {
    "application/vnd.databricks.v1+cell": {
     "cellMetadata": {
      "byteLimit": 2048000,
      "rowLimit": 10000
     },
     "inputWidgets": {},
     "nuid": "2c2b319a-a5ac-42f4-9d1f-4fe307b018e4",
     "showTitle": false,
     "tableResultSettingsMap": {},
     "title": ""
    }
   },
   "outputs": [],
   "source": []
  },
  {
   "cell_type": "code",
   "execution_count": 0,
   "metadata": {
    "application/vnd.databricks.v1+cell": {
     "cellMetadata": {
      "byteLimit": 2048000,
      "rowLimit": 10000
     },
     "inputWidgets": {},
     "nuid": "0b419f78-98dd-4d27-8719-dfc50e4b9558",
     "showTitle": false,
     "tableResultSettingsMap": {},
     "title": ""
    }
   },
   "outputs": [],
   "source": [
    "df_poverty_silver = df_poverty_silver.withColumnRenamed(\"year\", \"Year\") \\\n",
    "                                     .withColumnRenamed(\"Boro\", \"Borough\") \\\n",
    "                                     .withColumnRenamed(\"SEX\", \"Gender\") \\\n",
    "                                     .withColumnRenamed(\"AGEP_group\", \"Age\") \\\n",
    "                                     .withColumnRenamed(\"Ethnicity\", \"Race\")\n",
    "\n"
   ]
  },
  {
   "cell_type": "code",
   "execution_count": 0,
   "metadata": {
    "application/vnd.databricks.v1+cell": {
     "cellMetadata": {
      "byteLimit": 2048000,
      "rowLimit": 10000
     },
     "inputWidgets": {},
     "nuid": "812fe09d-86e4-49a3-9c98-73d0c1ad1dcd",
     "showTitle": false,
     "tableResultSettingsMap": {},
     "title": ""
    }
   },
   "outputs": [],
   "source": [
    "from pyspark.sql.functions import col, when\n",
    "\n",
    "# Actualizar los valores de la columna 'Borough' en df_poverty_silver según los valores de df_hiv_silver\n",
    "df_poverty_silver = df_poverty_silver.withColumn(\n",
    "    \"Borough\", \n",
    "    when(col(\"Borough\") == 1, \"Bronx\")\n",
    "    .when(col(\"Borough\") == 2, \"Brooklyn\")\n",
    "    .when(col(\"Borough\") == 3, \"Manhattan\")\n",
    "    .when(col(\"Borough\") == 4, \"Queens\")\n",
    "    .when(col(\"Borough\") == 5, \"Staten Island\")\n",
    "    .when(col(\"Borough\") == \"All\", \"All\")\n",
    "    .otherwise(col(\"Borough\"))\n",
    ")\n",
    "\n",
    "# Actualizar los valores de la columna 'Year' en df_poverty_silver según los valores de df_hiv_silver\n",
    "df_poverty_silver = df_poverty_silver.withColumn(\n",
    "    \"Year\", \n",
    "    when(col(\"Year\") == 2011, 2011)\n",
    "    .when(col(\"Year\") == 2012, 2012)\n",
    "    .when(col(\"Year\") == 2013, 2013)\n",
    "    .when(col(\"Year\") == 2014, 2014)\n",
    "    .when(col(\"Year\") == 2015, 2015)\n",
    "    .when(col(\"Year\") == 2017, 2017)\n",
    "    .when(col(\"Year\") == 2018, 2018)\n",
    "    .when(col(\"Year\") == 2019, 2019)\n",
    "    .when(col(\"Year\") == 2020, 2020)\n",
    "    .when(col(\"Year\") == 2021, 2021)\n",
    "    .otherwise(col(\"Year\"))\n",
    ")\n",
    "\n",
    "# Actualizar los valores de la columna 'Age' en df_poverty_silver según los valores de df_hiv_silver\n",
    "df_poverty_silver = df_poverty_silver.withColumn(\n",
    "    \"Age\", \n",
    "    when(col(\"Age\") == \"30-39\", \"30 - 39\")\n",
    "    .when(col(\"Age\") == \"40-49\", \"40 - 49\")\n",
    "    .when(col(\"Age\") == \"50-59\", \"50 - 59\")\n",
    "    .when(col(\"Age\") == \"60+\", \"60+\")\n",
    "    .when(col(\"Age\") == \"All\", \"All\")\n",
    "    .when(col(\"Age\") == \"13-19\", \"13 - 19\")\n",
    "    .when(col(\"Age\") == \"18-29\", \"18 - 29\")\n",
    "    .otherwise(col(\"Age\"))\n",
    ")\n",
    "\n",
    "# Actualizar los valores de la columna 'Gender' (SEX) en df_poverty_silver según los valores de df_hiv_silver\n",
    "df_poverty_silver = df_poverty_silver.withColumn(\n",
    "    \"Gender\", \n",
    "    when(col(\"Gender\") == 1, \"Male\")\n",
    "    .when(col(\"Gender\") == 2, \"Female\")\n",
    "    .when(col(\"Gender\") == \"All\", \"All\")\n",
    "    .when(col(\"Gender\") == \"Transgender\", \"Transgender\")\n",
    "    .otherwise(col(\"Gender\"))\n",
    ")\n",
    "\n",
    "# Actualizar los valores de la columna 'Race' (Ethnicity) en df_poverty_silver según los valores correctos\n",
    "df_poverty_silver = df_poverty_silver.withColumn(\n",
    "    \"Race\", \n",
    "    when(col(\"Race\") == 1, \"Non-Hispanic White\")\n",
    "    .when(col(\"Race\") == 2, \"Non-Hispanic Black\")\n",
    "    .when(col(\"Race\") == 3, \"Non-Hispanic Asian\")\n",
    "    .when(col(\"Race\") == 4, \"Hispanic, Any Race\")\n",
    "    .when(col(\"Race\") == 5, \"Other Race/Ethnic Group\")\n",
    "    .when(col(\"Race\") == \"All\", \"All\")\n",
    "    .otherwise(col(\"Race\"))\n",
    ")\n",
    "\n"
   ]
  },
  {
   "cell_type": "code",
   "execution_count": 0,
   "metadata": {
    "application/vnd.databricks.v1+cell": {
     "cellMetadata": {
      "byteLimit": 2048000,
      "rowLimit": 10000
     },
     "inputWidgets": {},
     "nuid": "48bedddb-c0f2-4937-99e3-0dd041e3be67",
     "showTitle": false,
     "tableResultSettingsMap": {},
     "title": ""
    }
   },
   "outputs": [],
   "source": [
    "df_poverty_silver = df_poverty_silver.withColumn(\n",
    "    \"Race\", \n",
    "    when(col(\"Race\") == \"Other Race/Ethnic Group\", \"Other/Unknown\")\n",
    "    .when(col(\"Race\") == \"Hispanic, Any Race\", \"Latino/Hispanic\")\n",
    "    .when(col(\"Race\") == \"Non-Hispanic Asian\", \"Asian/Pacific Islander\")\n",
    "    .when(col(\"Race\") == \"Non-Hispanic Black\", \"Black\")\n",
    "    .when(col(\"Race\") == \"Non-Hispanic White\", \"White\")\n",
    "    .otherwise(col(\"Race\"))\n",
    ")"
   ]
  },
  {
   "cell_type": "code",
   "execution_count": 0,
   "metadata": {
    "application/vnd.databricks.v1+cell": {
     "cellMetadata": {
      "byteLimit": 2048000,
      "rowLimit": 10000
     },
     "inputWidgets": {},
     "nuid": "4c44cfb9-ff0c-4b8e-a154-416f36ba839d",
     "showTitle": false,
     "tableResultSettingsMap": {},
     "title": ""
    }
   },
   "outputs": [],
   "source": []
  },
  {
   "cell_type": "code",
   "execution_count": 0,
   "metadata": {
    "application/vnd.databricks.v1+cell": {
     "cellMetadata": {
      "byteLimit": 2048000,
      "rowLimit": 10000
     },
     "inputWidgets": {},
     "nuid": "98223a90-29aa-41a0-85a8-702181017b63",
     "showTitle": false,
     "tableResultSettingsMap": {},
     "title": ""
    }
   },
   "outputs": [],
   "source": [
    "\"\"\"\n",
    "from pyspark.sql import functions as F\n",
    "\n",
    "\n",
    "\n",
    "df_aggregated_poverty = df_poverty_silver.groupBy(\n",
    "    'Year', 'Borough', 'Gender', 'Age', 'Race'\n",
    ").agg(\n",
    "    F.avg('NYCgov_Income').alias('avg_NYCgov_Income'),\n",
    "\n",
    "    F.count(F.when(df_poverty_silver['Off_Pov_Stat'] == 1, 1)).alias('count_In_Poverty'),\n",
    "    F.count(F.when(df_poverty_silver['Off_Pov_Stat'] == 2, 1)).alias('count_Not_In_Poverty'),\n",
    "\n",
    "    F.count(F.when(df_poverty_silver['FTPTWork'] == 1, 1)).alias('count_Full_Time_Work_Year_Round'),\n",
    "    F.count(F.when(df_poverty_silver['FTPTWork'] == 2, 1)).alias('count_Less_Than_Full_Time_Work_Year_Round'),\n",
    "    F.count(F.when(df_poverty_silver['FTPTWork'] == 3, 1)).alias('count_No_Work'),\n",
    "\n",
    "    F.count(F.when(df_poverty_silver['EducAttain'] == 1, 1)).alias('count_Less_Than_High_School'),\n",
    "    F.count(F.when(df_poverty_silver['EducAttain'] == 2, 1)).alias('count_High_School_Degree'),\n",
    "    F.count(F.when(df_poverty_silver['EducAttain'] == 3, 1)).alias('count_Some_College'),\n",
    "    F.count(F.when(df_poverty_silver['EducAttain'] == 4, 1)).alias('count_Bachelors_Or_Higher')\n",
    ")\n",
    "\"\"\""
   ]
  },
  {
   "cell_type": "code",
   "execution_count": 0,
   "metadata": {
    "application/vnd.databricks.v1+cell": {
     "cellMetadata": {
      "byteLimit": 2048000,
      "rowLimit": 10000
     },
     "inputWidgets": {},
     "nuid": "46354674-0f63-4ec6-a40d-4217f55fa27b",
     "showTitle": false,
     "tableResultSettingsMap": {},
     "title": ""
    }
   },
   "outputs": [],
   "source": [
    "from pyspark.sql import functions as F\n",
    "\n",
    "df_aggregated_poverty = df_poverty_silver.groupBy(\n",
    "    'Year', 'Borough', 'Gender', 'Age', 'Race'\n",
    ").agg(\n",
    "    F.sum(\"PWGTP\").alias(\"total_weight\"),\n",
    "\n",
    "    # Ingreso promedio ponderado\n",
    "    F.sum(F.col(\"NYCgov_Income\") * F.col(\"PWGTP\")).alias(\"weighted_income_sum\"),\n",
    "    (F.col(\"weighted_income_sum\") / F.col(\"total_weight\")).alias(\"avg_NYCgov_Income\"),\n",
    "\n",
    "    # Población total en pobreza y fuera de pobreza (ponderada)\n",
    "    F.sum(F.when(F.col(\"Off_Pov_Stat\") == 1, F.col(\"PWGTP\"))).alias(\"weighted_poverty_population\"),\n",
    "    F.sum(F.when(F.col(\"Off_Pov_Stat\") == 2, F.col(\"PWGTP\"))).alias(\"weighted_non_poverty_population\"),\n",
    "    \n",
    "    # Tasa de pobreza real\n",
    "    (F.col(\"weighted_poverty_population\") / F.col(\"total_weight\")).alias(\"poverty_rate\"),\n",
    "    (F.col(\"weighted_non_poverty_population\") / F.col(\"total_weight\")).alias(\"no_poverty_rate\"),\n",
    "\n",
    "    # Distribución laboral ponderada\n",
    "    F.sum(F.when(F.col(\"FTPTWork\") == 1, F.col(\"PWGTP\"))).alias(\"weighted_Full_Time_Work_Year_Round\"),\n",
    "    F.sum(F.when(F.col(\"FTPTWork\") == 2, F.col(\"PWGTP\"))).alias(\"weighted_Less_Than_Full_Time_Work_Year_Round\"),\n",
    "    F.sum(F.when(F.col(\"FTPTWork\") == 3, F.col(\"PWGTP\"))).alias(\"weighted_No_Work\"),\n",
    "    \n",
    "    # Distribución educativa ponderada\n",
    "    F.sum(F.when(F.col(\"EducAttain\") == 1, F.col(\"PWGTP\"))).alias(\"weighted_Less_Than_High_School\"),\n",
    "    F.sum(F.when(F.col(\"EducAttain\") == 2, F.col(\"PWGTP\"))).alias(\"weighted_High_School_Degree\"),\n",
    "    F.sum(F.when(F.col(\"EducAttain\") == 3, F.col(\"PWGTP\"))).alias(\"weighted_Some_College\"),\n",
    "    F.sum(F.when(F.col(\"EducAttain\") == 4, F.col(\"PWGTP\"))).alias(\"weighted_Bachelors_Or_Higher\")\n",
    ")\n"
   ]
  },
  {
   "cell_type": "code",
   "execution_count": 0,
   "metadata": {
    "application/vnd.databricks.v1+cell": {
     "cellMetadata": {
      "byteLimit": 2048000,
      "rowLimit": 10000
     },
     "inputWidgets": {},
     "nuid": "203a5317-3057-408c-9c27-8773972c7a90",
     "showTitle": false,
     "tableResultSettingsMap": {},
     "title": ""
    }
   },
   "outputs": [],
   "source": []
  },
  {
   "cell_type": "markdown",
   "metadata": {
    "application/vnd.databricks.v1+cell": {
     "cellMetadata": {
      "byteLimit": 2048000,
      "rowLimit": 10000
     },
     "inputWidgets": {},
     "nuid": "8d50fb37-f898-48d7-890d-3e00e119e799",
     "showTitle": false,
     "tableResultSettingsMap": {},
     "title": ""
    }
   },
   "source": [
    "&copy; 2025 Thoughtworks. All rights reserved.<br/>"
   ]
  },
  {
   "cell_type": "code",
   "execution_count": 0,
   "metadata": {
    "application/vnd.databricks.v1+cell": {
     "cellMetadata": {
      "byteLimit": 2048000,
      "rowLimit": 10000
     },
     "inputWidgets": {},
     "nuid": "71a4634a-08a4-425e-b799-3070468aef1c",
     "showTitle": false,
     "tableResultSettingsMap": {},
     "title": ""
    }
   },
   "outputs": [],
   "source": [
    "display(df_aggregated_poverty)"
   ]
  },
  {
   "cell_type": "code",
   "execution_count": 0,
   "metadata": {
    "application/vnd.databricks.v1+cell": {
     "cellMetadata": {
      "byteLimit": 2048000,
      "rowLimit": 10000
     },
     "inputWidgets": {},
     "nuid": "ac5fa6d7-deca-472b-923e-0b1e0d86e388",
     "showTitle": false,
     "tableResultSettingsMap": {},
     "title": ""
    }
   },
   "outputs": [],
   "source": [
    "# Filtrar los valores de 'hiv' que no están en 'poverty'\n",
    "valid_years = [\"2011\", 2012, 2013, 2014, 2015, 2017, 2018]\n",
    "\n",
    "df_hiv_filtered = df_hiv_collapsed \\\n",
    "    .filter(~col(\"Age\").isin(\"All\")) \\\n",
    "    .filter(~col(\"Race\").isin(\"All\")) \\\n",
    "    .filter(~col(\"Gender\").isin(\"All\")) \\\n",
    "    .filter(~col(\"Borough\").isin(\"All\")) \\\n",
    "    .filter(~col(\"Year\").isin(\"All\")) \\\n",
    "    .filter(col(\"Year\").isin(valid_years))\n",
    "\n",
    "df_hiv_filtered = df_hiv_filtered.withColumn(\n",
    "    \"Gender\", \n",
    "    when(col(\"Gender\") == \"Women\", \"Female\")\n",
    "    .when(col(\"Gender\") == \"Men\", \"Male\")\n",
    "    .otherwise(col(\"Gender\"))\n",
    ")\n",
    "\n",
    "df_hiv_filtered = df_hiv_filtered.withColumn(\n",
    "    \"Age\", \n",
    "    when(col(\"Age\") == \"20 - 29\", \"18 - 29\").otherwise(col(\"Age\"))\n",
    ")\n",
    "\n",
    "df_hiv_filtered = df_hiv_filtered.withColumn(\n",
    "    \"Race\", \n",
    "    when(col(\"Race\") == \"Latinx/Hispanic\", \"Latino/Hispanic\").otherwise(col(\"Race\"))\n",
    ")\n",
    "\n",
    "\n"
   ]
  },
  {
   "cell_type": "code",
   "execution_count": 0,
   "metadata": {
    "application/vnd.databricks.v1+cell": {
     "cellMetadata": {
      "byteLimit": 2048000,
      "rowLimit": 10000
     },
     "inputWidgets": {},
     "nuid": "a7a85be9-39e2-4525-a2ee-bc6b2f87d904",
     "showTitle": false,
     "tableResultSettingsMap": {},
     "title": ""
    }
   },
   "outputs": [],
   "source": [
    "df_hiv_filtered.select(\"Borough\").distinct().show()\n",
    "df_poverty_silver.select(\"Borough\").distinct().show()\n",
    "\n",
    "df_hiv_filtered.select(\"Year\").distinct().show()\n",
    "df_poverty_silver.select(\"Year\").distinct().show()\n",
    "\n",
    "df_hiv_filtered.select(\"Age\").distinct().show()\n",
    "df_poverty_silver.select(\"Age\").distinct().show()\n",
    "\n",
    "df_hiv_filtered.select(\"Gender\").distinct().show()\n",
    "df_poverty_silver.select(\"Gender\").distinct().show()\n",
    "\n",
    "df_hiv_filtered.select(\"Race\").distinct().show()\n",
    "df_poverty_silver.select(\"Race\").distinct().show()\n"
   ]
  },
  {
   "cell_type": "code",
   "execution_count": 0,
   "metadata": {
    "application/vnd.databricks.v1+cell": {
     "cellMetadata": {
      "byteLimit": 2048000,
      "rowLimit": 10000
     },
     "inputWidgets": {},
     "nuid": "9a0be7bd-febe-473d-ac24-cff074efa811",
     "showTitle": false,
     "tableResultSettingsMap": {},
     "title": ""
    }
   },
   "outputs": [],
   "source": [
    "df_hiv_filtered.count()\n"
   ]
  },
  {
   "cell_type": "code",
   "execution_count": 0,
   "metadata": {
    "application/vnd.databricks.v1+cell": {
     "cellMetadata": {
      "byteLimit": 2048000,
      "rowLimit": 10000
     },
     "inputWidgets": {},
     "nuid": "d19144f1-d1f5-4a85-bb8d-ba159efe8259",
     "showTitle": false,
     "tableResultSettingsMap": {},
     "title": ""
    }
   },
   "outputs": [],
   "source": [
    "df_aggregated_poverty.count()\n"
   ]
  },
  {
   "cell_type": "code",
   "execution_count": 0,
   "metadata": {
    "application/vnd.databricks.v1+cell": {
     "cellMetadata": {
      "byteLimit": 2048000,
      "rowLimit": 10000
     },
     "inputWidgets": {},
     "nuid": "f0d066da-d0bf-4dc1-8db1-45a35f3a06b1",
     "showTitle": false,
     "tableResultSettingsMap": {},
     "title": ""
    }
   },
   "outputs": [],
   "source": [
    "df_joined = df_hiv_filtered.join(\n",
    "    df_aggregated_poverty, \n",
    "    on=[\"Year\", \"Borough\",\"Race\", \"Gender\", \"Age\"], \n",
    "    how=\"inner\"\n",
    ")\n",
    "get_shape(df_joined)"
   ]
  },
  {
   "cell_type": "code",
   "execution_count": 0,
   "metadata": {
    "application/vnd.databricks.v1+cell": {
     "cellMetadata": {
      "byteLimit": 2048000,
      "rowLimit": 10000
     },
     "inputWidgets": {},
     "nuid": "f49538f0-c687-4c0b-a629-38442b8d0d42",
     "showTitle": false,
     "tableResultSettingsMap": {
      "0": {
       "filterBlob": "{\"filterGroups\":[{\"enabled\":true,\"op\":\"OR\",\"filterGroupId\":\"fg_cbf327c\",\"filters\":[{\"filterId\":\"f_c0503d3f\",\"columnId\":\"Gender\",\"enabled\":true,\"dataType\":\"string\",\"filterType\":\"oneof\",\"filterConfig\":{}}],\"local\":false,\"updatedAt\":1742229148770},{\"enabled\":true,\"op\":\"OR\",\"filterGroupId\":\"fg_91869f3d\",\"filters\":[{\"filterId\":\"f_34a55660\",\"columnId\":\"Gender\",\"enabled\":true,\"dataType\":\"string\",\"filterType\":\"oneof\",\"filterConfig\":{}}],\"local\":false,\"updatedAt\":1742229351503},{\"enabled\":true,\"op\":\"OR\",\"filterGroupId\":\"fg_adf21b78\",\"filters\":[{\"filterId\":\"f_91a4c6b6\",\"columnId\":\"avg_NYCgov_Income\",\"enabled\":true,\"dataType\":\"float\",\"filterType\":\"oneof\",\"filterConfig\":{}}],\"local\":false,\"updatedAt\":1742229404362},{\"enabled\":true,\"op\":\"OR\",\"filterGroupId\":\"fg_f2b5552c\",\"filters\":[{\"filterId\":\"f_c23bcecb\",\"columnId\":\"Year\",\"enabled\":true,\"dataType\":\"integer\",\"filterType\":\"oneof\",\"filterConfig\":{}}],\"local\":false,\"updatedAt\":1742229425333},{\"enabled\":true,\"op\":\"OR\",\"filterGroupId\":\"fg_d378e2d9\",\"filters\":[{\"filterId\":\"f_2e84f16d\",\"columnId\":\"Year\",\"enabled\":true,\"dataType\":\"integer\",\"filterType\":\"oneof\",\"filterConfig\":{}}],\"local\":false,\"updatedAt\":1742229521137}],\"syncTimestamp\":1742305699426}",
       "tableResultIndex": 0
      }
     },
     "title": ""
    }
   },
   "outputs": [],
   "source": [
    "display(df_joined)"
   ]
  },
  {
   "cell_type": "markdown",
   "metadata": {
    "application/vnd.databricks.v1+cell": {
     "cellMetadata": {
      "byteLimit": 2048000,
      "rowLimit": 10000
     },
     "inputWidgets": {},
     "nuid": "d4eab8c8-6043-4496-b741-a94b4ac0075b",
     "showTitle": false,
     "tableResultSettingsMap": {},
     "title": ""
    }
   },
   "source": [
    "# WRITE TO PARQUET"
   ]
  },
  {
   "cell_type": "code",
   "execution_count": 0,
   "metadata": {
    "application/vnd.databricks.v1+cell": {
     "cellMetadata": {
      "byteLimit": 2048000,
      "rowLimit": 10000
     },
     "inputWidgets": {},
     "nuid": "c04bdb05-e55c-490a-9093-74cd5fa269ec",
     "showTitle": false,
     "tableResultSettingsMap": {},
     "title": ""
    }
   },
   "outputs": [],
   "source": [
    "def write_to_gold(input_df: DataFrame, name_df: str):\n",
    "    out_dir = f\"{working_directory}/gold/{name_df}\"\n",
    "    mode_name = \"overwrite\"\n",
    "    \n",
    "    input_df. \\\n",
    "        write. \\\n",
    "        mode(mode_name). \\\n",
    "        parquet(out_dir)\n",
    "    \n"
   ]
  },
  {
   "cell_type": "code",
   "execution_count": 0,
   "metadata": {
    "application/vnd.databricks.v1+cell": {
     "cellMetadata": {
      "byteLimit": 2048000,
      "rowLimit": 10000
     },
     "inputWidgets": {},
     "nuid": "9a7b84e2-2e58-4d4b-8afc-5d0a3618eab9",
     "showTitle": false,
     "tableResultSettingsMap": {},
     "title": ""
    }
   },
   "outputs": [],
   "source": [
    "df_name = \"df_hiv_poverty\"\n",
    "write_to_gold(df_joined, df_name)"
   ]
  },
  {
   "cell_type": "code",
   "execution_count": 0,
   "metadata": {
    "application/vnd.databricks.v1+cell": {
     "cellMetadata": {
      "byteLimit": 2048000,
      "rowLimit": 10000
     },
     "inputWidgets": {},
     "nuid": "a629ed8f-db1e-4529-a545-6b6a4fe8c231",
     "showTitle": false,
     "tableResultSettingsMap": {},
     "title": ""
    }
   },
   "outputs": [],
   "source": []
  },
  {
   "cell_type": "code",
   "execution_count": 0,
   "metadata": {
    "application/vnd.databricks.v1+cell": {
     "cellMetadata": {
      "byteLimit": 2048000,
      "rowLimit": 10000
     },
     "inputWidgets": {},
     "nuid": "e9acd67c-c269-463a-90dd-91737b9992a2",
     "showTitle": false,
     "tableResultSettingsMap": {},
     "title": ""
    }
   },
   "outputs": [],
   "source": []
  },
  {
   "cell_type": "code",
   "execution_count": 0,
   "metadata": {
    "application/vnd.databricks.v1+cell": {
     "cellMetadata": {
      "byteLimit": 2048000,
      "rowLimit": 10000
     },
     "inputWidgets": {},
     "nuid": "c6acff09-dce4-4f5f-8ca7-28edaae510d5",
     "showTitle": false,
     "tableResultSettingsMap": {},
     "title": ""
    }
   },
   "outputs": [],
   "source": []
  }
 ],
 "metadata": {
  "application/vnd.databricks.v1+notebook": {
   "computePreferences": null,
   "dashboards": [],
   "environmentMetadata": {
    "base_environment": "",
    "environment_version": "2"
   },
   "language": "python",
   "notebookMetadata": {
    "pythonIndentUnit": 4
   },
   "notebookName": "3. Silver",
   "widgets": {}
  },
  "language_info": {
   "name": "python"
  }
 },
 "nbformat": 4,
 "nbformat_minor": 0
}
