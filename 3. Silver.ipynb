{
 "cells": [
  {
   "cell_type": "code",
   "execution_count": 0,
   "metadata": {
    "application/vnd.databricks.v1+cell": {
     "cellMetadata": {
      "byteLimit": 2048000,
      "rowLimit": 10000
     },
     "inputWidgets": {},
     "nuid": "ea363924-5492-4e6c-8935-f60a0945824d",
     "showTitle": false,
     "tableResultSettingsMap": {},
     "title": ""
    }
   },
   "outputs": [],
   "source": [
    "from pyspark.sql import SparkSession\n",
    "\n",
    "spark = SparkSession.builder \\\n",
    "    .appName(\"hiv-project\") \\\n",
    "    .getOrCreate()"
   ]
  },
  {
   "cell_type": "code",
   "execution_count": 0,
   "metadata": {
    "application/vnd.databricks.v1+cell": {
     "cellMetadata": {
      "byteLimit": 2048000,
      "rowLimit": 10000
     },
     "inputWidgets": {},
     "nuid": "d83c8eae-c76a-458c-a513-63f7c7b5d988",
     "showTitle": false,
     "tableResultSettingsMap": {},
     "title": ""
    }
   },
   "outputs": [],
   "source": [
    "%pip uninstall -y databricks_helpers exercise_ev_databricks_unit_tests\n",
    "%pip install git+https://github.com/data-derp/databricks_helpers#egg=databricks_helpers git+https://github.com/data-derp/exercise_ev_databricks_unit_tests#egg=exercise_ev_databricks_unit_tests"
   ]
  },
  {
   "cell_type": "code",
   "execution_count": 0,
   "metadata": {
    "application/vnd.databricks.v1+cell": {
     "cellMetadata": {
      "byteLimit": 2048000,
      "rowLimit": 10000
     },
     "inputWidgets": {},
     "nuid": "47d82a9a-b849-451d-8c57-e04909d92e98",
     "showTitle": false,
     "tableResultSettingsMap": {},
     "title": ""
    }
   },
   "outputs": [],
   "source": [
    "from databricks_helpers.databricks_helpers import DataDerpDatabricksHelpers\n",
    "exercise_name = \"hiv-project\"\n",
    "helpers = DataDerpDatabricksHelpers(dbutils, exercise_name)"
   ]
  },
  {
   "cell_type": "code",
   "execution_count": 0,
   "metadata": {
    "application/vnd.databricks.v1+cell": {
     "cellMetadata": {
      "byteLimit": 2048000,
      "rowLimit": 10000
     },
     "inputWidgets": {},
     "nuid": "ce9b44e9-226c-4b2f-b146-8dbee5fa9c55",
     "showTitle": false,
     "tableResultSettingsMap": {},
     "title": ""
    }
   },
   "outputs": [],
   "source": [
    "working_directory = helpers.working_directory()\n",
    "print(working_directory)"
   ]
  },
  {
   "cell_type": "markdown",
   "metadata": {
    "application/vnd.databricks.v1+cell": {
     "cellMetadata": {},
     "inputWidgets": {},
     "nuid": "c8c2be2e-306d-4bed-bf86-010add972353",
     "showTitle": false,
     "tableResultSettingsMap": {},
     "title": ""
    }
   },
   "source": [
    "# SILVER"
   ]
  },
  {
   "cell_type": "markdown",
   "metadata": {
    "application/vnd.databricks.v1+cell": {
     "cellMetadata": {},
     "inputWidgets": {},
     "nuid": "e89d12f3-2a62-4297-9407-8c53460894d4",
     "showTitle": false,
     "tableResultSettingsMap": {},
     "title": ""
    }
   },
   "source": [
    "## Read from Parquet"
   ]
  },
  {
   "cell_type": "code",
   "execution_count": 0,
   "metadata": {
    "application/vnd.databricks.v1+cell": {
     "cellMetadata": {
      "byteLimit": 2048000,
      "rowLimit": 10000
     },
     "inputWidgets": {},
     "nuid": "1563ca10-e2f6-4e2b-b618-092b858d02ed",
     "showTitle": false,
     "tableResultSettingsMap": {},
     "title": ""
    }
   },
   "outputs": [],
   "source": [
    "\n",
    "from pyspark.sql import DataFrame\n",
    "def read_from_parquet(df_name: str) -> DataFrame:\n",
    "    df_path = f\"{working_directory}/parquet/{df_name}\"\n",
    "    return spark.read.parquet(df_path)\n",
    "\n",
    "df_hiv_silver = read_from_parquet(\"df_hiv\")\n",
    "\n",
    "available_years = [2011, 2012, 2013, 2014, 2015, 2017, 2018] \n",
    "silver_year_dataframes = {}\n",
    "for year in available_years:\n",
    "    silver_year_dataframes[year] = read_from_parquet(f\"df_poverty_{year}\")\n",
    "\n",
    "\n"
   ]
  },
  {
   "cell_type": "markdown",
   "metadata": {
    "application/vnd.databricks.v1+cell": {
     "cellMetadata": {},
     "inputWidgets": {},
     "nuid": "9f084d44-6179-404b-9033-0c3f46a160d3",
     "showTitle": false,
     "tableResultSettingsMap": {},
     "title": ""
    }
   },
   "source": [
    "## Concat Poverty Datasets with years"
   ]
  },
  {
   "cell_type": "code",
   "execution_count": 0,
   "metadata": {
    "application/vnd.databricks.v1+cell": {
     "cellMetadata": {
      "byteLimit": 2048000,
      "rowLimit": 10000
     },
     "inputWidgets": {},
     "nuid": "faf2a989-b74b-4b3d-ae49-5f05fbbf8a04",
     "showTitle": false,
     "tableResultSettingsMap": {},
     "title": ""
    }
   },
   "outputs": [],
   "source": [
    "from pyspark.sql.functions import lit\n",
    "\n",
    "df_poverty_silver = None\n",
    "\n",
    "for year, df in silver_year_dataframes.items():\n",
    "    df_with_year = df.withColumn(\"year\", lit(year))\n",
    "    \n",
    "    if df_poverty_silver is None:\n",
    "        df_poverty_silver = df_with_year\n",
    "    else:\n",
    "        df_poverty_silver = df_poverty_silver.union(df_with_year)"
   ]
  },
  {
   "cell_type": "code",
   "execution_count": 0,
   "metadata": {
    "application/vnd.databricks.v1+cell": {
     "cellMetadata": {
      "byteLimit": 2048000,
      "rowLimit": 10000
     },
     "inputWidgets": {},
     "nuid": "7b275e74-2414-4997-8200-7a2145624688",
     "showTitle": false,
     "tableResultSettingsMap": {},
     "title": ""
    }
   },
   "outputs": [],
   "source": [
    "def get_shape(df):\n",
    "    return df.count(), len(df.columns)"
   ]
  },
  {
   "cell_type": "code",
   "execution_count": 0,
   "metadata": {
    "application/vnd.databricks.v1+cell": {
     "cellMetadata": {
      "byteLimit": 2048000,
      "rowLimit": 10000
     },
     "inputWidgets": {},
     "nuid": "61320d20-aecd-4c87-8043-866c7115f549",
     "showTitle": false,
     "tableResultSettingsMap": {},
     "title": ""
    }
   },
   "outputs": [],
   "source": [
    "get_shape(df_poverty_silver)"
   ]
  },
  {
   "cell_type": "code",
   "execution_count": 0,
   "metadata": {
    "application/vnd.databricks.v1+cell": {
     "cellMetadata": {
      "byteLimit": 2048000,
      "rowLimit": 10000
     },
     "inputWidgets": {},
     "nuid": "35dba9ac-9f81-43e1-9c6b-a2bb5ade972f",
     "showTitle": false,
     "tableResultSettingsMap": {},
     "title": ""
    }
   },
   "outputs": [],
   "source": [
    "import matplotlib.pyplot as plt\n",
    "\n",
    "df_pandas = df_poverty_silver.select(\"year\", \"NYCgov_Income\").toPandas()\n",
    "\n",
    "df_grouped = df_pandas.groupby(\"year\")[\"NYCgov_Income\"].mean().reset_index()\n",
    "\n",
    "plt.figure(figsize=(10, 5))\n",
    "plt.plot(df_grouped[\"year\"], df_grouped[\"NYCgov_Income\"], marker='o', linestyle='-')\n",
    "\n",
    "plt.xlabel(\"Year\")\n",
    "plt.ylabel(\"Average NYCgov_Income\")\n",
    "plt.title(\"NYCgov_Income Over the Years\")\n",
    "plt.grid(True)\n",
    "\n",
    "plt.show()\n"
   ]
  },
  {
   "cell_type": "markdown",
   "metadata": {
    "application/vnd.databricks.v1+cell": {
     "cellMetadata": {
      "byteLimit": 2048000,
      "rowLimit": 10000
     },
     "inputWidgets": {},
     "nuid": "cc9790af-d70d-44ff-a43b-4079823ae57b",
     "showTitle": false,
     "tableResultSettingsMap": {},
     "title": ""
    }
   },
   "source": [
    "## AGGREGATIONS YEAR - BORO - GENDER - RACE - SED - AGE"
   ]
  },
  {
   "cell_type": "code",
   "execution_count": 0,
   "metadata": {
    "application/vnd.databricks.v1+cell": {
     "cellMetadata": {
      "byteLimit": 2048000,
      "rowLimit": 10000
     },
     "inputWidgets": {},
     "nuid": "2c2b319a-a5ac-42f4-9d1f-4fe307b018e4",
     "showTitle": false,
     "tableResultSettingsMap": {},
     "title": ""
    }
   },
   "outputs": [],
   "source": [
    "\"\"\"\n",
    "from pyspark.sql import functions as F\n",
    "\n",
    "def group_age(df):\n",
    "    conditions = [\n",
    "        (df['AGEP'] >= 13) & (df['AGEP'] <= 19), '13-19',\n",
    "        (df['AGEP'] >= 18) & (df['AGEP'] <= 29), '18-29',\n",
    "        (df['AGEP'] >= 20) & (df['AGEP'] <= 29), '20-29',\n",
    "        (df['AGEP'] >= 30) & (df['AGEP'] <= 39), '30-39',\n",
    "        (df['AGEP'] >= 40) & (df['AGEP'] <= 49), '40-49',\n",
    "        (df['AGEP'] >= 50) & (df['AGEP'] <= 59), '50-59',\n",
    "        (df['AGEP'] >= 60), '60+'\n",
    "    ]\n",
    "    df = df.withColumn('AGEP_group', F.when(conditions[0], conditions[1])\n",
    "                                  .when(conditions[2], conditions[3])\n",
    "                                  .when(conditions[4], conditions[5])\n",
    "                                  .when(conditions[6], conditions[7])\n",
    "                                  .when(conditions[8], conditions[9])\n",
    "                                  .when(conditions[10], conditions[11])\n",
    "                                  .otherwise('Unknown'))  \n",
    "    return df\n",
    "\n",
    "df_poverty_grouped = group_age(df_poverty_silver)\n",
    "\n",
    "df_aggregated = df_poverty_grouped.groupBy(\n",
    "    'year', 'Boro', 'SEX', 'AGEP_group', 'Ethnicity'\n",
    ").agg(\n",
    "    F.avg('NYCgov_Income').alias('avg_NYCgov_Income'),\n",
    "\n",
    "    F.count(F.when(df_poverty_grouped['Off_Pov_Stat'] == 1, 1)).alias('count_In_Poverty'),\n",
    "    F.count(F.when(df_poverty_grouped['Off_Pov_Stat'] == 2, 1)).alias('count_Not_In_Poverty'),\n",
    "\n",
    "    F.count(F.when(df_poverty_grouped['FTPTWork'] == 1, 1)).alias('count_Full_Time_Work_Year_Round'),\n",
    "    F.count(F.when(df_poverty_grouped['FTPTWork'] == 2, 1)).alias('count_Less_Than_Full_Time_Work_Year_Round'),\n",
    "    F.count(F.when(df_poverty_grouped['FTPTWork'] == 3, 1)).alias('count_No_Work'),\n",
    "\n",
    "    F.count(F.when(df_poverty_grouped['EducAttain'] == 1, 1)).alias('count_Less_Than_High_School'),\n",
    "    F.count(F.when(df_poverty_grouped['EducAttain'] == 2, 1)).alias('count_High_School_Degree'),\n",
    "    F.count(F.when(df_poverty_grouped['EducAttain'] == 3, 1)).alias('count_Some_College'),\n",
    "    F.count(F.when(df_poverty_grouped['EducAttain'] == 4, 1)).alias('count_Bachelors_Or_Higher')\n",
    ")\n",
    "\n",
    "\"\"\""
   ]
  },
  {
   "cell_type": "code",
   "execution_count": 0,
   "metadata": {
    "application/vnd.databricks.v1+cell": {
     "cellMetadata": {},
     "inputWidgets": {},
     "nuid": "dae06826-507c-4955-8b20-d083449e5a0d",
     "showTitle": false,
     "tableResultSettingsMap": {},
     "title": ""
    }
   },
   "outputs": [],
   "source": []
  },
  {
   "cell_type": "code",
   "execution_count": 0,
   "metadata": {
    "application/vnd.databricks.v1+cell": {
     "cellMetadata": {},
     "inputWidgets": {},
     "nuid": "0b419f78-98dd-4d27-8719-dfc50e4b9558",
     "showTitle": false,
     "tableResultSettingsMap": {},
     "title": ""
    }
   },
   "outputs": [],
   "source": []
  },
  {
   "cell_type": "code",
   "execution_count": 0,
   "metadata": {
    "application/vnd.databricks.v1+cell": {
     "cellMetadata": {},
     "inputWidgets": {},
     "nuid": "d9ad7a99-ead3-4acf-bab2-8b6453bcdbe3",
     "showTitle": false,
     "tableResultSettingsMap": {},
     "title": ""
    }
   },
   "outputs": [],
   "source": []
  },
  {
   "cell_type": "code",
   "execution_count": 0,
   "metadata": {
    "application/vnd.databricks.v1+cell": {
     "cellMetadata": {},
     "inputWidgets": {},
     "nuid": "cd20d8f4-fb74-4c54-a63e-840c3c953330",
     "showTitle": false,
     "tableResultSettingsMap": {},
     "title": ""
    }
   },
   "outputs": [],
   "source": []
  },
  {
   "cell_type": "markdown",
   "metadata": {
    "application/vnd.databricks.v1+cell": {
     "cellMetadata": {},
     "inputWidgets": {},
     "nuid": "8d50fb37-f898-48d7-890d-3e00e119e799",
     "showTitle": false,
     "tableResultSettingsMap": {},
     "title": ""
    }
   },
   "source": [
    "&copy; 2025 Thoughtworks. All rights reserved.<br/>"
   ]
  }
 ],
 "metadata": {
  "application/vnd.databricks.v1+notebook": {
   "computePreferences": null,
   "dashboards": [],
   "environmentMetadata": {
    "base_environment": "",
    "environment_version": "2"
   },
   "language": "python",
   "notebookMetadata": {
    "pythonIndentUnit": 4
   },
   "notebookName": "3. Silver",
   "widgets": {}
  },
  "language_info": {
   "name": "python"
  }
 },
 "nbformat": 4,
 "nbformat_minor": 0
}
