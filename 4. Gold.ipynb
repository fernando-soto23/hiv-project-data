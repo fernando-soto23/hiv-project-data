{
 "cells": [
  {
   "cell_type": "code",
   "execution_count": 0,
   "metadata": {
    "application/vnd.databricks.v1+cell": {
     "cellMetadata": {
      "byteLimit": 2048000,
      "rowLimit": 10000
     },
     "inputWidgets": {},
     "nuid": "4235f8e8-d76a-4a04-b375-83b0ce5eb76a",
     "showTitle": false,
     "tableResultSettingsMap": {},
     "title": ""
    }
   },
   "outputs": [],
   "source": [
    "from pyspark.sql import SparkSession\n",
    "\n",
    "spark = SparkSession.builder \\\n",
    "    .appName(\"hiv-project\") \\\n",
    "    .getOrCreate()"
   ]
  },
  {
   "cell_type": "code",
   "execution_count": 0,
   "metadata": {
    "application/vnd.databricks.v1+cell": {
     "cellMetadata": {
      "byteLimit": 2048000,
      "rowLimit": 10000
     },
     "inputWidgets": {},
     "nuid": "a0a7b9ae-7acf-425d-ace3-cf72327e7b36",
     "showTitle": false,
     "tableResultSettingsMap": {},
     "title": ""
    }
   },
   "outputs": [],
   "source": [
    "%pip uninstall -y databricks_helpers exercise_ev_databricks_unit_tests\n",
    "%pip install git+https://github.com/data-derp/databricks_helpers#egg=databricks_helpers git+https://github.com/data-derp/exercise_ev_databricks_unit_tests#egg=exercise_ev_databricks_unit_tests"
   ]
  },
  {
   "cell_type": "code",
   "execution_count": 0,
   "metadata": {
    "application/vnd.databricks.v1+cell": {
     "cellMetadata": {
      "byteLimit": 2048000,
      "rowLimit": 10000
     },
     "inputWidgets": {},
     "nuid": "aeafc0d8-9d2b-4d9b-8cf7-7e6baae4b72c",
     "showTitle": false,
     "tableResultSettingsMap": {},
     "title": ""
    }
   },
   "outputs": [],
   "source": [
    "from databricks_helpers.databricks_helpers import DataDerpDatabricksHelpers\n",
    "exercise_name = \"hiv-project\"\n",
    "helpers = DataDerpDatabricksHelpers(dbutils, exercise_name)"
   ]
  },
  {
   "cell_type": "code",
   "execution_count": 0,
   "metadata": {
    "application/vnd.databricks.v1+cell": {
     "cellMetadata": {
      "byteLimit": 2048000,
      "rowLimit": 10000
     },
     "inputWidgets": {},
     "nuid": "101f70f2-7b82-4c07-bf04-cc0fd9dd6942",
     "showTitle": false,
     "tableResultSettingsMap": {},
     "title": ""
    }
   },
   "outputs": [],
   "source": [
    "working_directory = helpers.working_directory()\n",
    "print(working_directory)"
   ]
  },
  {
   "cell_type": "markdown",
   "metadata": {
    "application/vnd.databricks.v1+cell": {
     "cellMetadata": {
      "byteLimit": 2048000,
      "rowLimit": 10000
     },
     "inputWidgets": {},
     "nuid": "d53d90b8-9550-493e-bb1e-4bb3f49a313d",
     "showTitle": false,
     "tableResultSettingsMap": {},
     "title": ""
    }
   },
   "source": [
    "# Read from Silver\n"
   ]
  },
  {
   "cell_type": "code",
   "execution_count": 0,
   "metadata": {
    "application/vnd.databricks.v1+cell": {
     "cellMetadata": {
      "byteLimit": 2048000,
      "rowLimit": 10000
     },
     "inputWidgets": {},
     "nuid": "de5f7253-cd37-48c7-972e-4153233e491a",
     "showTitle": false,
     "tableResultSettingsMap": {},
     "title": ""
    }
   },
   "outputs": [],
   "source": [
    "\n",
    "from pyspark.sql import DataFrame\n",
    "def read_from_gold(df_name: str) -> DataFrame:\n",
    "    df_path = f\"{working_directory}/gold/{df_name}\"\n",
    "    return spark.read.parquet(df_path)\n",
    "\n",
    "df_hiv_poverty = read_from_gold(\"df_hiv_poverty\")"
   ]
  },
  {
   "cell_type": "code",
   "execution_count": 0,
   "metadata": {
    "application/vnd.databricks.v1+cell": {
     "cellMetadata": {
      "byteLimit": 2048000,
      "rowLimit": 10000
     },
     "inputWidgets": {},
     "nuid": "63cd7deb-9000-4a39-8508-373921069807",
     "showTitle": false,
     "tableResultSettingsMap": {},
     "title": ""
    }
   },
   "outputs": [],
   "source": [
    "display(df_hiv_poverty)"
   ]
  },
  {
   "cell_type": "code",
   "execution_count": 0,
   "metadata": {
    "application/vnd.databricks.v1+cell": {
     "cellMetadata": {
      "byteLimit": 2048000,
      "rowLimit": 10000
     },
     "inputWidgets": {},
     "nuid": "e1a8026c-0c9c-4db7-b7c2-03a716096e60",
     "showTitle": false,
     "tableResultSettingsMap": {},
     "title": ""
    }
   },
   "outputs": [],
   "source": [
    "df_hiv_poverty.columns"
   ]
  },
  {
   "cell_type": "code",
   "execution_count": 0,
   "metadata": {
    "application/vnd.databricks.v1+cell": {
     "cellMetadata": {
      "byteLimit": 2048000,
      "rowLimit": 10000
     },
     "inputWidgets": {},
     "nuid": "df9b24af-f036-459f-965f-cfe1a9fc7388",
     "showTitle": false,
     "tableResultSettingsMap": {},
     "title": ""
    }
   },
   "outputs": [],
   "source": [
    "from pyspark.sql.functions import corr\n",
    "\n",
    "correlation = df_hiv_poverty.select(corr(\"count_In_Poverty\", \"HIV diagnosis rate\")).collect()[0][0]\n",
    "\n",
    "print(f\"Correlación entre pobreza y tasa de diagnóstico de VIH: {correlation}\")"
   ]
  },
  {
   "cell_type": "code",
   "execution_count": 0,
   "metadata": {
    "application/vnd.databricks.v1+cell": {
     "cellMetadata": {
      "byteLimit": 2048000,
      "rowLimit": 10000
     },
     "inputWidgets": {},
     "nuid": "e827dcd6-c42d-467f-aae9-7e803a14baf9",
     "showTitle": false,
     "tableResultSettingsMap": {},
     "title": ""
    }
   },
   "outputs": [],
   "source": [
    "# Calcular la correlación entre pobreza y % vinculado a tratamiento en 3 meses\n",
    "correlation_treatment = df_hiv_poverty.select(corr(\"count_In_Poverty\", \"% linked to care within 3 months\")).collect()[0][0]\n",
    "\n",
    "print(f\"Correlación entre pobreza y acceso temprano a tratamiento: {correlation_treatment}\")\n"
   ]
  },
  {
   "cell_type": "code",
   "execution_count": 0,
   "metadata": {
    "application/vnd.databricks.v1+cell": {
     "cellMetadata": {
      "byteLimit": 2048000,
      "rowLimit": 10000
     },
     "inputWidgets": {},
     "nuid": "14f4f120-e0f6-4d98-ba89-20fab237125f",
     "showTitle": false,
     "tableResultSettingsMap": {},
     "title": ""
    }
   },
   "outputs": [],
   "source": [
    "from pyspark.sql.functions import avg, col\n",
    "\n",
    "# Agrupar por borough y calcular métricas promedio\n",
    "vulnerable_areas = df_hiv_poverty.groupBy(\"Borough\").agg(\n",
    "    avg(\"HIV diagnosis rate\").alias(\"avg_HIV_rate\"),\n",
    "    avg(\"count_In_Poverty\").alias(\"avg_poverty\"),\n",
    "    avg(\"% linked to care within 3 months\").alias(\"avg_care_linkage\"),\n",
    "    avg(\"% viral suppression\").alias(\"avg_viral_suppression\")\n",
    ").orderBy(col(\"avg_HIV_rate\").desc())\n",
    "\n",
    "# Mostrar las comunidades más vulnerables\n",
    "display(vulnerable_areas)\n"
   ]
  },
  {
   "cell_type": "code",
   "execution_count": 0,
   "metadata": {
    "application/vnd.databricks.v1+cell": {
     "cellMetadata": {
      "byteLimit": 2048000,
      "rowLimit": 10000
     },
     "inputWidgets": {},
     "nuid": "fdad5b9d-e97d-4c82-9d10-e6e3977c467f",
     "showTitle": false,
     "tableResultSettingsMap": {},
     "title": ""
    }
   },
   "outputs": [],
   "source": [
    "numeric_cols = [\n",
    "    \"HIV diagnoses\", \"HIV diagnosis rate\", \"Concurrent diagnoses\", \"% linked to care within 3 months\",\n",
    "    \"AIDS diagnoses\", \"PLWDHI prevalence\", \"% viral suppression\", \"Deaths\", \"Death rate\",\n",
    "    \"avg_NYCgov_Income\", \"count_In_Poverty\", \"count_Not_In_Poverty\"\n",
    "]\n",
    "correlation_results = []\n",
    "for col1 in numeric_cols:\n",
    "    row = []\n",
    "    for col2 in numeric_cols:\n",
    "        correlation = df_hiv_poverty.select(corr(col1, col2)).collect()[0][0]\n",
    "        row.append(round(correlation, 3) if correlation is not None else None)\n",
    "    correlation_results.append(row)\n",
    "\n",
    "import pandas as pd\n",
    "correlation_df = pd.DataFrame(correlation_results, index=numeric_cols, columns=numeric_cols)\n",
    "\n"
   ]
  },
  {
   "cell_type": "code",
   "execution_count": 0,
   "metadata": {
    "application/vnd.databricks.v1+cell": {
     "cellMetadata": {
      "byteLimit": 2048000,
      "rowLimit": 10000
     },
     "inputWidgets": {},
     "nuid": "ba3ad6a5-ebf8-4622-806e-e9c2ba77b948",
     "showTitle": false,
     "tableResultSettingsMap": {},
     "title": ""
    }
   },
   "outputs": [],
   "source": [
    "correlation_df"
   ]
  },
  {
   "cell_type": "code",
   "execution_count": 0,
   "metadata": {
    "application/vnd.databricks.v1+cell": {
     "cellMetadata": {
      "byteLimit": 2048000,
      "rowLimit": 10000
     },
     "inputWidgets": {},
     "nuid": "56ff99ad-0195-47a8-9aa8-1513a3664700",
     "showTitle": false,
     "tableResultSettingsMap": {},
     "title": ""
    }
   },
   "outputs": [],
   "source": [
    "import seaborn as sns\n",
    "import matplotlib.pyplot as plt\n",
    "import pandas as pd\n",
    "from pyspark.sql.functions import corr\n",
    "\n",
    "# Lista de variables numéricas a analizar\n",
    "numeric_cols = df_hiv_poverty.columns\n",
    "\n",
    "# Crear la matriz de correlación en PySpark\n",
    "correlation_results = []\n",
    "for col1 in numeric_cols:\n",
    "    row = []\n",
    "    for col2 in numeric_cols:\n",
    "        correlation = df_hiv_poverty.select(corr(col1, col2)).collect()[0][0]\n",
    "        row.append(correlation if correlation is not None else 0)\n",
    "    correlation_results.append(row)\n",
    "\n",
    "correlation_df = pd.DataFrame(correlation_results, index=numeric_cols, columns=numeric_cols)\n",
    "\n",
    "plt.figure(figsize=(12, 8))\n",
    "sns.heatmap(correlation_df, annot=True, cmap=\"coolwarm\", fmt=\".2f\", linewidths=0.5)\n",
    "plt.title(\"Mapa de Calor de Correlaciones entre Variables\")\n",
    "plt.show()\n"
   ]
  },
  {
   "cell_type": "code",
   "execution_count": 0,
   "metadata": {
    "application/vnd.databricks.v1+cell": {
     "cellMetadata": {},
     "inputWidgets": {},
     "nuid": "b939f2ba-3ea2-480f-b2d9-00bd76f17bc1",
     "showTitle": false,
     "tableResultSettingsMap": {},
     "title": ""
    }
   },
   "outputs": [],
   "source": []
  },
  {
   "cell_type": "code",
   "execution_count": 0,
   "metadata": {
    "application/vnd.databricks.v1+cell": {
     "cellMetadata": {
      "byteLimit": 2048000,
      "rowLimit": 10000
     },
     "inputWidgets": {},
     "nuid": "db301d98-cbd5-4da3-bfbb-67964f3e7f53",
     "showTitle": false,
     "tableResultSettingsMap": {},
     "title": ""
    }
   },
   "outputs": [],
   "source": [
    "from pyspark.ml.stat import Correlation\n",
    "from pyspark.ml.feature import VectorAssembler\n",
    "\n",
    "numerical_columns = [\n",
    "    'HIV diagnoses', 'HIV diagnosis rate', 'Concurrent diagnoses', '% linked to care within 3 months',\n",
    "    'AIDS diagnoses', 'AIDS diagnosis rate', 'PLWDHI prevalence', '% viral suppression', \n",
    "    'Deaths', 'Death rate', 'HIV-related death rate', 'Non-HIV-related death rate',\n",
    "    'avg_NYCgov_Income', 'poverty_rate', 'no_poverty_rate',\n",
    "    'weighted_Full_Time_Work_Year_Round', 'weighted_Less_Than_Full_Time_Work_Year_Round', \n",
    "    'weighted_No_Work', 'weighted_Less_Than_High_School', 'weighted_High_School_Degree', \n",
    "    'weighted_Some_College', 'weighted_Bachelors_Or_Higher'\n",
    "]\n",
    "\n",
    "assembler = VectorAssembler(inputCols=numerical_columns, outputCol=\"features\")\n",
    "df_features = assembler.transform(df_hiv_poverty.na.drop(subset=numerical_columns))\n",
    "\n",
    "correlation_matrix = Correlation.corr(df_features, 'features').head()[0]\n",
    "correlation_matrix = correlation_matrix.toArray()\n"
   ]
  },
  {
   "cell_type": "code",
   "execution_count": 0,
   "metadata": {
    "application/vnd.databricks.v1+cell": {
     "cellMetadata": {
      "byteLimit": 2048000,
      "rowLimit": 10000
     },
     "inputWidgets": {},
     "nuid": "d43d5b00-f36c-4bb7-a524-feae4e31bbc7",
     "showTitle": false,
     "tableResultSettingsMap": {},
     "title": ""
    }
   },
   "outputs": [],
   "source": [
    "import seaborn as sns\n",
    "import matplotlib.pyplot as plt\n",
    "import pandas as pd\n",
    "import numpy as np\n",
    "\n",
    "correlation_df = pd.DataFrame(correlation_matrix, columns=numerical_columns, index=numerical_columns)\n",
    "\n",
    "plt.figure(figsize=(12, 8)) \n",
    "sns.heatmap(correlation_df, annot=True, cmap='coolwarm', fmt='.2f', vmin=-1, vmax=1, cbar=True)\n",
    "\n",
    "plt.title(\"Mapa de Calor de Correlación entre Variables de Pobreza y VIH\")\n",
    "plt.show()\n"
   ]
  },
  {
   "cell_type": "markdown",
   "metadata": {
    "application/vnd.databricks.v1+cell": {
     "cellMetadata": {},
     "inputWidgets": {},
     "nuid": "01b87649-9135-40f7-bde2-5fbd24bb5fdb",
     "showTitle": false,
     "tableResultSettingsMap": {},
     "title": ""
    }
   },
   "source": [
    "&copy; 2025 Thoughtworks. All rights reserved.<br/>"
   ]
  }
 ],
 "metadata": {
  "application/vnd.databricks.v1+notebook": {
   "computePreferences": null,
   "dashboards": [],
   "environmentMetadata": {
    "base_environment": "",
    "environment_version": "2"
   },
   "language": "python",
   "notebookMetadata": {
    "pythonIndentUnit": 4
   },
   "notebookName": "4. Gold",
   "widgets": {}
  },
  "language_info": {
   "name": "python"
  }
 },
 "nbformat": 4,
 "nbformat_minor": 0
}
