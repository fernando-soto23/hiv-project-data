{
 "cells": [
  {
   "cell_type": "markdown",
   "metadata": {
    "application/vnd.databricks.v1+cell": {
     "cellMetadata": {},
     "inputWidgets": {},
     "nuid": "e7d81d61-4893-478a-81f6-93cdd0a346d3",
     "showTitle": false,
     "tableResultSettingsMap": {},
     "title": ""
    }
   },
   "source": [
    "# 📊 Socioeconomic Factors and HIV Prevalence in NYC  \n",
    "\n",
    "## 📌 Project Overview  \n",
    "This project analyzes the relationship between **socioeconomic status** and **HIV prevalence** in **New York City**.  \n",
    "By examining **HIV diagnosis rates** alongside **poverty indicators**, we aim to identify potential correlations and disparities across **boroughs, age groups, genders, and racial demographics**.  \n",
    "\n",
    "## 🎯 Goals  \n",
    "- Understand how **poverty and economic hardship** impact HIV prevalence.  \n",
    "- Identify **disparities in healthcare access** related to HIV treatment and care.  \n",
    "- Provide insights to support **public health policies** and resource allocation.  \n",
    "\n",
    "## 📂 Datasets  \n",
    "We integrate two key datasets for this analysis:  \n",
    "\n",
    "1️⃣ **[NYC HIV/AIDS Statistics](https://data.cityofnewyork.us/Health/DOHMH-HIV-AIDS-Annual-Report/fju2-rdad/about_data)**  \n",
    "   - HIV diagnoses, prevalence, and mortality rates.  \n",
    "   - Breakdown by **borough, age, gender, and race**.  \n",
    "\n",
    "2️⃣ **[NYC Poverty Metrics](https://data.cityofnewyork.us/City-Government/NYCgov-Poverty-Measure-Data-2018-/cts7-vksw/about_data)**  \n",
    "   - Household income, employment, and government assistance.  \n",
    "   - Socioeconomic indicators at an **individual level**.  \n",
    "\n",
    "## 🔗 Methodology  \n",
    "- IN PROGRES...\n",
    "\n",
    "## 📊 Expected Insights  \n",
    "- 📉 Does **higher poverty correlate with higher HIV rates** in certain boroughs?  \n",
    "- ⚕️ Are populations in poverty **less likely to receive early HIV treatment**?  \n",
    "- 🏙️ Which **boroughs and communities** are most vulnerable?  \n",
    "\n",
    "## 📝 Authors  \n",
    "👩‍💻 Joangie Márquez\n",
    "👨‍💻 Fernando Soto  \n",
    "\n"
   ]
  },
  {
   "cell_type": "code",
   "execution_count": 0,
   "metadata": {
    "application/vnd.databricks.v1+cell": {
     "cellMetadata": {
      "byteLimit": 2048000,
      "rowLimit": 10000
     },
     "inputWidgets": {},
     "nuid": "946c9958-93dd-428e-a77b-a76cfdba5e16",
     "showTitle": false,
     "tableResultSettingsMap": {},
     "title": ""
    }
   },
   "outputs": [],
   "source": [
    "\"\"\"\n",
    "%run \"./2. Bronze\"\n",
    "%run \"./3. Silver\"\n",
    "%run \"./4. Golden\"\n",
    "\"\"\""
   ]
  },
  {
   "cell_type": "code",
   "execution_count": 0,
   "metadata": {
    "application/vnd.databricks.v1+cell": {
     "cellMetadata": {},
     "inputWidgets": {},
     "nuid": "3dad81b0-d311-41cd-882c-4fa7016cbdee",
     "showTitle": false,
     "tableResultSettingsMap": {},
     "title": ""
    }
   },
   "outputs": [],
   "source": []
  },
  {
   "cell_type": "markdown",
   "metadata": {
    "application/vnd.databricks.v1+cell": {
     "cellMetadata": {},
     "inputWidgets": {},
     "nuid": "ea88d861-52a5-4e9a-86f3-cccaf53e40ae",
     "showTitle": false,
     "tableResultSettingsMap": {},
     "title": ""
    }
   },
   "source": [
    "&copy; 2025 Thoughtworks. All rights reserved.<br/>"
   ]
  }
 ],
 "metadata": {
  "application/vnd.databricks.v1+notebook": {
   "computePreferences": null,
   "dashboards": [],
   "environmentMetadata": {
    "base_environment": "",
    "environment_version": "2"
   },
   "language": "python",
   "notebookMetadata": {
    "pythonIndentUnit": 4
   },
   "notebookName": "5. main",
   "widgets": {}
  },
  "language_info": {
   "name": "python"
  }
 },
 "nbformat": 4,
 "nbformat_minor": 0
}
