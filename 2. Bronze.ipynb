{
 "cells": [
  {
   "cell_type": "code",
   "execution_count": 0,
   "metadata": {
    "application/vnd.databricks.v1+cell": {
     "cellMetadata": {
      "byteLimit": 2048000,
      "rowLimit": 10000
     },
     "inputWidgets": {},
     "nuid": "61f59bb6-6d0c-472d-8203-a3f582079153",
     "showTitle": false,
     "tableResultSettingsMap": {},
     "title": ""
    }
   },
   "outputs": [],
   "source": [
    "from pyspark.sql import SparkSession\n",
    "\n",
    "spark = SparkSession.builder \\\n",
    "    .appName(\"hiv-project\") \\\n",
    "    .getOrCreate()"
   ]
  },
  {
   "cell_type": "code",
   "execution_count": 0,
   "metadata": {
    "application/vnd.databricks.v1+cell": {
     "cellMetadata": {
      "byteLimit": 2048000,
      "rowLimit": 10000
     },
     "inputWidgets": {},
     "nuid": "793b761a-3b77-42f5-887d-6c0cd1bfb34b",
     "showTitle": false,
     "tableResultSettingsMap": {},
     "title": ""
    }
   },
   "outputs": [],
   "source": [
    "%pip uninstall -y databricks_helpers exercise_ev_databricks_unit_tests\n",
    "%pip install git+https://github.com/data-derp/databricks_helpers#egg=databricks_helpers git+https://github.com/data-derp/exercise_ev_databricks_unit_tests#egg=exercise_ev_databricks_unit_tests"
   ]
  },
  {
   "cell_type": "code",
   "execution_count": 0,
   "metadata": {
    "application/vnd.databricks.v1+cell": {
     "cellMetadata": {
      "byteLimit": 2048000,
      "rowLimit": 10000
     },
     "inputWidgets": {},
     "nuid": "18549761-7401-4a24-8aea-3b9fbe345c7c",
     "showTitle": false,
     "tableResultSettingsMap": {},
     "title": ""
    }
   },
   "outputs": [],
   "source": [
    "from databricks_helpers.databricks_helpers import DataDerpDatabricksHelpers\n",
    "exercise_name = \"hiv-project\"\n",
    "helpers = DataDerpDatabricksHelpers(dbutils, exercise_name)"
   ]
  },
  {
   "cell_type": "code",
   "execution_count": 0,
   "metadata": {
    "application/vnd.databricks.v1+cell": {
     "cellMetadata": {
      "byteLimit": 2048000,
      "rowLimit": 10000
     },
     "inputWidgets": {},
     "nuid": "e5010af1-a04e-43de-bf6c-6d5f4531a4e8",
     "showTitle": false,
     "tableResultSettingsMap": {},
     "title": ""
    }
   },
   "outputs": [],
   "source": [
    "working_directory = helpers.working_directory()\n",
    "print(working_directory)"
   ]
  },
  {
   "cell_type": "markdown",
   "metadata": {
    "application/vnd.databricks.v1+cell": {
     "cellMetadata": {},
     "inputWidgets": {},
     "nuid": "80e649f4-2734-4bd1-8b28-69bcd88399c6",
     "showTitle": false,
     "tableResultSettingsMap": {},
     "title": ""
    }
   },
   "source": [
    "# BRONZE"
   ]
  },
  {
   "cell_type": "markdown",
   "metadata": {
    "application/vnd.databricks.v1+cell": {
     "cellMetadata": {},
     "inputWidgets": {},
     "nuid": "b9f71344-4813-48b1-9f4b-28f3bd551700",
     "showTitle": false,
     "tableResultSettingsMap": {},
     "title": ""
    }
   },
   "source": [
    "## HIV Dataset"
   ]
  },
  {
   "cell_type": "code",
   "execution_count": 0,
   "metadata": {
    "application/vnd.databricks.v1+cell": {
     "cellMetadata": {
      "byteLimit": 2048000,
      "rowLimit": 10000
     },
     "inputWidgets": {},
     "nuid": "605eac4c-80b4-47bf-b814-ba5418ec2ebb",
     "showTitle": false,
     "tableResultSettingsMap": {},
     "title": ""
    }
   },
   "outputs": [],
   "source": [
    "from pyspark.sql.types import *\n",
    "from pyspark.sql import DataFrame\n",
    "\n",
    "def create_dataframe(filepath: str, schema: StructType, from_extension: str) -> DataFrame:\n",
    "    df = spark.read.format(from_extension) \\\n",
    "        .option(\"header\", True) \\\n",
    "        .option(\"delimiter\", \",\") \\\n",
    "        .option(\"escape\", \"\\\\\") \\\n",
    "        .schema(schema) \\\n",
    "        .load(filepath)\n",
    "    return df"
   ]
  },
  {
   "cell_type": "code",
   "execution_count": 0,
   "metadata": {
    "application/vnd.databricks.v1+cell": {
     "cellMetadata": {
      "byteLimit": 2048000,
      "rowLimit": 10000
     },
     "inputWidgets": {},
     "nuid": "b2d7e3b0-6aaa-43a8-a194-2fa9aa9b7eec",
     "showTitle": false,
     "tableResultSettingsMap": {},
     "title": ""
    }
   },
   "outputs": [],
   "source": [
    "hiv_schema = StructType([\n",
    "    StructField(\"Year\", IntegerType(), True),\n",
    "    StructField(\"Borough\", StringType(), True),\n",
    "    StructField(\"UHF\", StringType(), True),\n",
    "    StructField(\"Gender\", StringType(), True),\n",
    "    StructField(\"Age\", StringType(), True),\n",
    "    StructField(\"Race\", StringType(), True),\n",
    "    StructField(\"HIV diagnoses\", IntegerType(), True),\n",
    "    StructField(\"HIV diagnosis rate\", FloatType(), True),\n",
    "    StructField(\"Concurrent diagnoses\", IntegerType(), True),\n",
    "    StructField(\"% linked to care within 3 months\", FloatType(), True),\n",
    "    StructField(\"AIDS diagnoses\", IntegerType(), True),\n",
    "    StructField(\"AIDS diagnosis rate\", FloatType(), True),\n",
    "    StructField(\"PLWDHI prevalence\", FloatType(), True),\n",
    "    StructField(\"% viral suppression\", FloatType(), True),\n",
    "    StructField(\"Deaths\", IntegerType(), True),\n",
    "    StructField(\"Death rate\", FloatType(), True),\n",
    "    StructField(\"HIV-related death rate\", FloatType(), True),\n",
    "    StructField(\"Non-HIV-related death rate\", FloatType(), True)\n",
    "])\n"
   ]
  },
  {
   "cell_type": "code",
   "execution_count": 0,
   "metadata": {
    "application/vnd.databricks.v1+cell": {
     "cellMetadata": {
      "byteLimit": 2048000,
      "rowLimit": 10000
     },
     "inputWidgets": {},
     "nuid": "c5f8183b-2b2c-4707-aa06-0ee2980fa405",
     "showTitle": false,
     "tableResultSettingsMap": {},
     "title": ""
    }
   },
   "outputs": [],
   "source": [
    "from_extension = \"csv\"\n",
    "hiv_url = \"https://raw.githubusercontent.com/fernando-soto23/hiv-project-data/refs/heads/main/data/DOHMH_HIV_AIDS_Annual_Report.csv\"\n",
    "hiv_filepath = helpers.download_to_local_dir(hiv_url)\n",
    "\n",
    "df_hiv = create_dataframe(hiv_filepath, hiv_schema, from_extension)"
   ]
  },
  {
   "cell_type": "code",
   "execution_count": 0,
   "metadata": {
    "application/vnd.databricks.v1+cell": {
     "cellMetadata": {
      "byteLimit": 2048000,
      "rowLimit": 10000
     },
     "inputWidgets": {},
     "nuid": "8d983894-7011-41b6-aab1-a3e98492ccf2",
     "showTitle": false,
     "tableResultSettingsMap": {},
     "title": ""
    }
   },
   "outputs": [],
   "source": [
    "display(df_hiv)"
   ]
  },
  {
   "cell_type": "markdown",
   "metadata": {
    "application/vnd.databricks.v1+cell": {
     "cellMetadata": {},
     "inputWidgets": {},
     "nuid": "7c8786aa-5d84-43db-aa86-7a477c484603",
     "showTitle": false,
     "tableResultSettingsMap": {},
     "title": ""
    }
   },
   "source": [
    "## Poverty Datasets"
   ]
  },
  {
   "cell_type": "code",
   "execution_count": 0,
   "metadata": {
    "application/vnd.databricks.v1+cell": {
     "cellMetadata": {
      "byteLimit": 2048000,
      "rowLimit": 10000
     },
     "inputWidgets": {},
     "nuid": "0a7c405f-20e0-4869-9a18-6f73af167405",
     "showTitle": false,
     "tableResultSettingsMap": {},
     "title": ""
    }
   },
   "outputs": [],
   "source": [
    "import os\n",
    "import requests\n",
    "from pyspark.sql import SparkSession\n",
    "from pyspark.sql.types import *\n",
    "from pyspark.sql.functions import *\n",
    "\n",
    "poverty_schema = StructType([\n",
    "    StructField(\"SERIALNO\", IntegerType(), True),\n",
    "    StructField(\"SPORDER\", IntegerType(), True),\n",
    "    StructField(\"PWGTP\", DoubleType(), True),\n",
    "    StructField(\"WGTP\", DoubleType(), True),\n",
    "    StructField(\"AGEP\", IntegerType(), True),\n",
    "    StructField(\"CIT\", IntegerType(), True),\n",
    "    StructField(\"REL\", IntegerType(), True),\n",
    "    StructField(\"SCH\", IntegerType(), True),\n",
    "    StructField(\"SCHG\", IntegerType(), True),\n",
    "    StructField(\"SCHL\", IntegerType(), True),\n",
    "    StructField(\"SEX\", IntegerType(), True),\n",
    "    StructField(\"ESR\", IntegerType(), True),\n",
    "    StructField(\"LANX\", IntegerType(), True),\n",
    "    StructField(\"ENG\", IntegerType(), True),\n",
    "    StructField(\"MSP\", IntegerType(), True),\n",
    "    StructField(\"MAR\", IntegerType(), True),\n",
    "    StructField(\"WKW\", IntegerType(), True),\n",
    "    StructField(\"WKHP\", IntegerType(), True),\n",
    "    StructField(\"DIS\", IntegerType(), True),\n",
    "    StructField(\"JWTR\", IntegerType(), True),\n",
    "    StructField(\"NP\", IntegerType(), True),\n",
    "    StructField(\"TEN\", IntegerType(), True),\n",
    "    StructField(\"HHT\", IntegerType(), True),\n",
    "    StructField(\"AgeCateg\", IntegerType(), True),\n",
    "    StructField(\"Boro\", IntegerType(), True),\n",
    "    StructField(\"CitizenStatus\", IntegerType(), True),\n",
    "    StructField(\"EducAttain\", IntegerType(), True),\n",
    "    StructField(\"EST_Childcare\", DoubleType(), True),\n",
    "    StructField(\"EST_Commuting\", DoubleType(), True),\n",
    "    StructField(\"EST_EITC\", DoubleType(), True),\n",
    "    StructField(\"EST_FICAtax\", DoubleType(), True),\n",
    "    StructField(\"EST_HEAP\", DoubleType(), True),\n",
    "    StructField(\"EST_Housing\", DoubleType(), True),\n",
    "    StructField(\"EST_IncomeTax\", DoubleType(), True),\n",
    "    StructField(\"EST_MOOP\", DoubleType(), True),\n",
    "    StructField(\"EST_Nutrition\", DoubleType(), True),\n",
    "    StructField(\"EST_PovGap\", DoubleType(), True),\n",
    "    StructField(\"EST_PovGapIndex\", DoubleType(), True),\n",
    "    StructField(\"Ethnicity\", IntegerType(), True),\n",
    "    StructField(\"FamType_PU\", IntegerType(), True),\n",
    "    StructField(\"FTPTWork\", IntegerType(), True),\n",
    "    StructField(\"INTP_adj\", DoubleType(), True),\n",
    "    StructField(\"MRGP_adj\", DoubleType(), True),\n",
    "    StructField(\"NYCgov_Income\", DoubleType(), True),\n",
    "    StructField(\"NYCgov_Pov_Stat\", IntegerType(), True),\n",
    "    StructField(\"NYCgov_REL\", IntegerType(), True),\n",
    "    StructField(\"NYCgov_Threshold\", DoubleType(), True),\n",
    "    StructField(\"Off_Pov_Stat\", IntegerType(), True),\n",
    "    StructField(\"Off_Threshold\", DoubleType(), True),\n",
    "    StructField(\"OI_adj\", DoubleType(), True),\n",
    "    StructField(\"PA_adj\", DoubleType(), True),\n",
    "    StructField(\"Povunit_ID\", IntegerType(), True),\n",
    "    StructField(\"Povunit_Rel\", IntegerType(), True),\n",
    "    StructField(\"PreTaxIncome_PU\", DoubleType(), True),\n",
    "    StructField(\"RETP_adj\", DoubleType(), True),\n",
    "    StructField(\"RNTP_adj\", DoubleType(), True),\n",
    "    StructField(\"SEMP_adj\", DoubleType(), True),\n",
    "    StructField(\"SSIP_adj\", DoubleType(), True),\n",
    "    StructField(\"SSP_adj\", DoubleType(), True),\n",
    "    StructField(\"TotalWorkHrs_PU\", DoubleType(), True),\n",
    "    StructField(\"WAGP_adj\", DoubleType(), True)\n",
    "])\n"
   ]
  },
  {
   "cell_type": "code",
   "execution_count": 0,
   "metadata": {
    "application/vnd.databricks.v1+cell": {
     "cellMetadata": {
      "byteLimit": 2048000,
      "rowLimit": 10000
     },
     "inputWidgets": {},
     "nuid": "1cd84c90-883c-4a7c-b995-59fd9a9ed317",
     "showTitle": false,
     "tableResultSettingsMap": {},
     "title": ""
    }
   },
   "outputs": [],
   "source": [
    "\n",
    "file_urls = [\n",
    "    \"https://raw.githubusercontent.com/fernando-soto23/hiv-project-data/refs/heads/main/data/NYCgov_Poverty_Measure_Data__2011__20250316.csv\",\n",
    "    \"https://raw.githubusercontent.com/fernando-soto23/hiv-project-data/refs/heads/main/data/NYCgov_Poverty_Measure_Data__2012__20250316.csv\",\n",
    "    \"https://raw.githubusercontent.com/fernando-soto23/hiv-project-data/refs/heads/main/data/NYCgov_Poverty_Measure_Data__2013__20250316.csv\",\n",
    "    \"https://raw.githubusercontent.com/fernando-soto23/hiv-project-data/refs/heads/main/data/NYCgov_Poverty_Measure_Data__2014__20250316.csv\",\n",
    "    \"https://raw.githubusercontent.com/fernando-soto23/hiv-project-data/refs/heads/main/data/NYCgov_Poverty_Measure_Data__2015__20250316.csv\",\n",
    "    \"https://raw.githubusercontent.com/fernando-soto23/hiv-project-data/refs/heads/main/data/NYCgov_Poverty_Measure_Data__2017__20250316.csv\",\n",
    "    \"https://raw.githubusercontent.com/fernando-soto23/hiv-project-data/refs/heads/main/data/NYCgov_Poverty_Measure_Data__2018__20250315.csv\"\n",
    "]\n",
    "\n",
    "dataframes = []\n",
    "year_dataframes = {}\n",
    "\n",
    "for url in file_urls:\n",
    "    year = url.split('__')[1]\n",
    "    \n",
    "    local_path = helpers.download_to_local_dir(url)\n",
    "    \n",
    "    df_poverty = spark.read.format(\"csv\") \\\n",
    "        .option(\"header\", \"true\") \\\n",
    "        .option(\"delimiter\", \",\") \\\n",
    "        .schema(poverty_schema) \\\n",
    "        .load(local_path)\n",
    "    \n",
    "    year_dataframes[year] = df_poverty"
   ]
  },
  {
   "cell_type": "code",
   "execution_count": 0,
   "metadata": {
    "application/vnd.databricks.v1+cell": {
     "cellMetadata": {
      "byteLimit": 2048000,
      "rowLimit": 10000
     },
     "inputWidgets": {},
     "nuid": "1d71af98-1983-4616-aef2-4d88f9005fe5",
     "showTitle": false,
     "tableResultSettingsMap": {},
     "title": ""
    }
   },
   "outputs": [],
   "source": [
    "df_2011 = year_dataframes['2011']\n",
    "display(df_2011)"
   ]
  },
  {
   "cell_type": "code",
   "execution_count": 0,
   "metadata": {
    "application/vnd.databricks.v1+cell": {
     "cellMetadata": {
      "byteLimit": 2048000,
      "rowLimit": 10000
     },
     "inputWidgets": {},
     "nuid": "2aad3b49-9095-481a-a420-e20d03bce98f",
     "showTitle": false,
     "tableResultSettingsMap": {},
     "title": ""
    }
   },
   "outputs": [],
   "source": [
    "def get_shape(input_df):\n",
    "    num_rows = input_df.count()\n",
    "    num_cols = len(input_df.columns)\n",
    "    return (num_rows, num_cols)\n"
   ]
  },
  {
   "cell_type": "code",
   "execution_count": 0,
   "metadata": {
    "application/vnd.databricks.v1+cell": {
     "cellMetadata": {
      "byteLimit": 2048000,
      "rowLimit": 10000
     },
     "inputWidgets": {},
     "nuid": "7ebcb5eb-579f-4a1f-839d-274a2cfea3c3",
     "showTitle": false,
     "tableResultSettingsMap": {},
     "title": ""
    }
   },
   "outputs": [],
   "source": [
    "get_shape(df_2011)"
   ]
  },
  {
   "cell_type": "markdown",
   "metadata": {
    "application/vnd.databricks.v1+cell": {
     "cellMetadata": {},
     "inputWidgets": {},
     "nuid": "02efd43f-90ab-4336-ab44-196aa695a62b",
     "showTitle": false,
     "tableResultSettingsMap": {},
     "title": ""
    }
   },
   "source": [
    "## WRITE TO PARQUET"
   ]
  },
  {
   "cell_type": "code",
   "execution_count": 0,
   "metadata": {
    "application/vnd.databricks.v1+cell": {
     "cellMetadata": {
      "byteLimit": 2048000,
      "rowLimit": 10000
     },
     "inputWidgets": {},
     "nuid": "be8430b6-e21c-4e21-8357-5e2f1d682f71",
     "showTitle": false,
     "tableResultSettingsMap": {},
     "title": ""
    }
   },
   "outputs": [],
   "source": [
    "def write_to_parqet(input_df: DataFrame, name_df: str):\n",
    "    out_dir = f\"{working_directory}/parquet/{name_df}\"\n",
    "    mode_name = \"overwrite\"\n",
    "    \n",
    "    input_df. \\\n",
    "        write. \\\n",
    "        mode(mode_name). \\\n",
    "        parquet(out_dir)\n",
    "    \n"
   ]
  },
  {
   "cell_type": "markdown",
   "metadata": {
    "application/vnd.databricks.v1+cell": {
     "cellMetadata": {},
     "inputWidgets": {},
     "nuid": "f65b19a4-5cad-4ce6-884e-654b1b87b3f9",
     "showTitle": false,
     "tableResultSettingsMap": {},
     "title": ""
    }
   },
   "source": [
    "## Write HIV Dataframe to Parquet"
   ]
  },
  {
   "cell_type": "code",
   "execution_count": 0,
   "metadata": {
    "application/vnd.databricks.v1+cell": {
     "cellMetadata": {},
     "inputWidgets": {},
     "nuid": "49277c8e-edde-43ef-9ad5-6246531833e2",
     "showTitle": false,
     "tableResultSettingsMap": {},
     "title": ""
    }
   },
   "outputs": [],
   "source": [
    "df_hiv_name = \"df_hiv\"\n",
    "write_to_parqet(df_hiv, df_hiv_name)"
   ]
  },
  {
   "cell_type": "markdown",
   "metadata": {
    "application/vnd.databricks.v1+cell": {
     "cellMetadata": {},
     "inputWidgets": {},
     "nuid": "6f1b4c81-0b05-450a-9373-a874df8aa0a6",
     "showTitle": false,
     "tableResultSettingsMap": {},
     "title": ""
    }
   },
   "source": [
    "## Write Poverty Dataframes for each year to Parquet"
   ]
  },
  {
   "cell_type": "code",
   "execution_count": 0,
   "metadata": {
    "application/vnd.databricks.v1+cell": {
     "cellMetadata": {},
     "inputWidgets": {},
     "nuid": "85bdbc5e-6b72-4709-be97-8c391306a414",
     "showTitle": false,
     "tableResultSettingsMap": {},
     "title": ""
    }
   },
   "outputs": [],
   "source": [
    "for year, df in year_dataframes.items():\n",
    "    write_to_parqet(df, f\"df_poverty_{year}\")\n"
   ]
  },
  {
   "cell_type": "markdown",
   "metadata": {
    "application/vnd.databricks.v1+cell": {
     "cellMetadata": {},
     "inputWidgets": {},
     "nuid": "a005e98d-cfac-4b28-bbe7-2c0ac814cfad",
     "showTitle": false,
     "tableResultSettingsMap": {},
     "title": ""
    }
   },
   "source": [
    "&copy; 2025 Thoughtworks. All rights reserved.<br/>"
   ]
  }
 ],
 "metadata": {
  "application/vnd.databricks.v1+notebook": {
   "computePreferences": null,
   "dashboards": [],
   "environmentMetadata": null,
   "language": "python",
   "notebookMetadata": {
    "pythonIndentUnit": 4
   },
   "notebookName": "2. Bronze",
   "widgets": {}
  },
  "kernelspec": {
   "display_name": "Python 3 (ipykernel)",
   "language": "python",
   "name": "python3"
  },
  "language_info": {
   "name": "python"
  }
 },
 "nbformat": 4,
 "nbformat_minor": 0
}
