{
 "cells": [
  {
   "cell_type": "code",
   "execution_count": 0,
   "metadata": {
    "application/vnd.databricks.v1+cell": {
     "cellMetadata": {
      "byteLimit": 2048000,
      "rowLimit": 10000
     },
     "inputWidgets": {},
     "nuid": "43804d67-7d7f-45ae-8a3c-f1d81b1d5c0f",
     "showTitle": false,
     "tableResultSettingsMap": {},
     "title": ""
    }
   },
   "outputs": [],
   "source": [
    "from pyspark.sql import SparkSession\n",
    "from pyspark.sql import DataFrame\n",
    "from pyspark.sql import functions as F\n",
    "from pyspark.sql.functions import col, when, lit, sum, avg, count\n",
    "from pyspark.sql.types import DoubleType, IntegerType, StringType"
   ]
  },
  {
   "cell_type": "code",
   "execution_count": 0,
   "metadata": {
    "application/vnd.databricks.v1+cell": {
     "cellMetadata": {
      "byteLimit": 2048000,
      "rowLimit": 10000
     },
     "inputWidgets": {},
     "nuid": "ea613241-a3d7-4af1-b507-8abd6276089a",
     "showTitle": false,
     "tableResultSettingsMap": {},
     "title": ""
    }
   },
   "outputs": [],
   "source": [
    "%pip uninstall -y databricks_helpers exercise_ev_databricks_unit_tests\n",
    "%pip install git+https://github.com/data-derp/databricks_helpers#egg=databricks_helpers git+https://github.com/data-derp/exercise_ev_databricks_unit_tests#egg=exercise_ev_databricks_unit_tests"
   ]
  },
  {
   "cell_type": "code",
   "execution_count": 0,
   "metadata": {
    "application/vnd.databricks.v1+cell": {
     "cellMetadata": {
      "byteLimit": 2048000,
      "rowLimit": 10000
     },
     "inputWidgets": {},
     "nuid": "17e5c9e1-3088-40b6-a1fa-24bf17763f55",
     "showTitle": false,
     "tableResultSettingsMap": {},
     "title": ""
    }
   },
   "outputs": [],
   "source": [
    "spark = SparkSession.builder \\\n",
    "    .appName(\"hiv-project-gold\") \\\n",
    "    .getOrCreate()\n"
   ]
  },
  {
   "cell_type": "code",
   "execution_count": 0,
   "metadata": {
    "application/vnd.databricks.v1+cell": {
     "cellMetadata": {
      "byteLimit": 2048000,
      "rowLimit": 10000
     },
     "inputWidgets": {},
     "nuid": "9538c39b-f429-44c5-8a80-3021b331829e",
     "showTitle": false,
     "tableResultSettingsMap": {},
     "title": ""
    }
   },
   "outputs": [],
   "source": [
    "from databricks_helpers.databricks_helpers import DataDerpDatabricksHelpers\n",
    "exercise_name = \"hiv-project\"\n",
    "helpers = DataDerpDatabricksHelpers(dbutils, exercise_name)\n",
    "\n"
   ]
  },
  {
   "cell_type": "code",
   "execution_count": 0,
   "metadata": {
    "application/vnd.databricks.v1+cell": {
     "cellMetadata": {
      "byteLimit": 2048000,
      "rowLimit": 10000
     },
     "inputWidgets": {},
     "nuid": "54579fa4-3610-4533-88f6-51058c69ebe2",
     "showTitle": false,
     "tableResultSettingsMap": {},
     "title": ""
    }
   },
   "outputs": [],
   "source": [
    "from utils import write_to_uc_table\n"
   ]
  },
  {
   "cell_type": "code",
   "execution_count": 0,
   "metadata": {
    "application/vnd.databricks.v1+cell": {
     "cellMetadata": {
      "byteLimit": 2048000,
      "rowLimit": 10000
     },
     "inputWidgets": {},
     "nuid": "e4ab6edd-73f6-4e35-b3ee-0fe9f60ca98c",
     "showTitle": false,
     "tableResultSettingsMap": {},
     "title": ""
    }
   },
   "outputs": [],
   "source": [
    "def read_from_unity_catalog(table_name: str) -> DataFrame:\n",
    "    return spark.read.table(table_name)"
   ]
  },
  {
   "cell_type": "code",
   "execution_count": 0,
   "metadata": {
    "application/vnd.databricks.v1+cell": {
     "cellMetadata": {
      "byteLimit": 2048000,
      "rowLimit": 10000
     },
     "inputWidgets": {},
     "nuid": "17063f1f-32ea-4f18-9958-79755192526f",
     "showTitle": false,
     "tableResultSettingsMap": {},
     "title": ""
    }
   },
   "outputs": [],
   "source": [
    "df_hiv_silver = read_from_unity_catalog(\"catalog_de.silver.hiv_data_clean\")\n",
    "df_poverty_silver = read_from_unity_catalog(\"catalog_de.silver.poverty_measure\")"
   ]
  },
  {
   "cell_type": "code",
   "execution_count": 0,
   "metadata": {
    "application/vnd.databricks.v1+cell": {
     "cellMetadata": {
      "byteLimit": 2048000,
      "rowLimit": 10000
     },
     "inputWidgets": {},
     "nuid": "a5c9c763-f91c-428a-b322-5909874064a0",
     "showTitle": false,
     "tableResultSettingsMap": {},
     "title": ""
    }
   },
   "outputs": [],
   "source": [
    "df_hiv_silver.select(\"year\").distinct().orderBy(\"year\").show()\n"
   ]
  },
  {
   "cell_type": "code",
   "execution_count": 0,
   "metadata": {
    "application/vnd.databricks.v1+cell": {
     "cellMetadata": {
      "byteLimit": 2048000,
      "rowLimit": 10000
     },
     "inputWidgets": {},
     "nuid": "a4e48678-3423-441e-81c0-4b01554f8bd5",
     "showTitle": false,
     "tableResultSettingsMap": {},
     "title": ""
    }
   },
   "outputs": [],
   "source": [
    "print(df_poverty_silver.columns)\n",
    "\n"
   ]
  },
  {
   "cell_type": "code",
   "execution_count": 0,
   "metadata": {
    "application/vnd.databricks.v1+cell": {
     "cellMetadata": {
      "byteLimit": 2048000,
      "rowLimit": 10000
     },
     "inputWidgets": {},
     "nuid": "b7befda7-ef77-43d4-8cf3-5d7941edcff9",
     "showTitle": false,
     "tableResultSettingsMap": {},
     "title": ""
    }
   },
   "outputs": [],
   "source": [
    "df_poverty_silver.select(\"year\").distinct().orderBy(\"year\").show()\n"
   ]
  },
  {
   "cell_type": "code",
   "execution_count": 0,
   "metadata": {
    "application/vnd.databricks.v1+cell": {
     "cellMetadata": {
      "byteLimit": 2048000,
      "rowLimit": 10000
     },
     "inputWidgets": {},
     "nuid": "dee6f794-b714-49c4-8dd5-ddee676ec0be",
     "showTitle": false,
     "tableResultSettingsMap": {},
     "title": ""
    }
   },
   "outputs": [],
   "source": [
    "df_hiv_agg = df_hiv_silver.groupBy(\"year\", \"borough\", \"gender\", \"age\", \"race\").agg(\n",
    "    sum(\"hiv_diagnoses\").alias(\"hiv_diagnoses_total\"),\n",
    "    avg(\"hiv_diagnosis_rate\").alias(\"hiv_diagnosis_rate_avg\"),\n",
    "    \n",
    "    sum(\"aids_diagnoses\").alias(\"aids_diagnoses_total\"),\n",
    "    avg(\"aids_diagnosis_rate\").alias(\"aids_diagnosis_rate_avg\"),\n",
    "    \n",
    "    avg(\"perc_linked_to_care_within_3_months\").alias(\"perc_linked_to_care_avg\"),\n",
    "    avg(\"perc_viral_suppression\").alias(\"perc_viral_suppression_avg\"),\n",
    "    \n",
    "    sum(\"deaths\").alias(\"deaths_total\"),\n",
    "    avg(\"death_rate\").alias(\"death_rate_avg\"),\n",
    "    \n",
    "    avg(\"plwdhi_prevalence\").alias(\"plwdhi_prevalence_avg\")\n",
    ")\n"
   ]
  },
  {
   "cell_type": "code",
   "execution_count": 0,
   "metadata": {
    "application/vnd.databricks.v1+cell": {
     "cellMetadata": {
      "byteLimit": 2048000,
      "rowLimit": 10000
     },
     "inputWidgets": {},
     "nuid": "02518e1a-fe60-4d3a-ac37-72d6529368b3",
     "showTitle": false,
     "tableResultSettingsMap": {},
     "title": ""
    }
   },
   "outputs": [],
   "source": [
    "df_poverty_agg = df_poverty_silver.groupBy(\"year\", \"borough\", \"gender\", \"age\", \"race\").agg(\n",
    "    sum(\"pwgtp\").alias(\"weighted_population\"),\n",
    "    \n",
    "    (sum(F.col(\"nycgov_income\") * F.col(\"pwgtp\")) / sum(\"pwgtp\")).alias(\"avg_income\"),\n",
    "    \n",
    "    (sum(F.when(F.col(\"nycgov_pov_stat\") == \"In poverty\", F.col(\"pwgtp\"))) / sum(\"pwgtp\") * 100).alias(\"poverty_rate\"),\n",
    "    \n",
    "    (sum(F.when(F.col(\"educattain\") == \"Less than high school\", F.col(\"pwgtp\"))) / sum(\"pwgtp\") * 100).alias(\"pct_less_than_high_school\"),\n",
    "    (sum(F.when(F.col(\"educattain\") == \"High school diploma\", F.col(\"pwgtp\"))) / sum(\"pwgtp\") * 100).alias(\"pct_high_school\"),\n",
    "    (sum(F.when(F.col(\"educattain\") == \"Some college\", F.col(\"pwgtp\"))) / sum(\"pwgtp\") * 100).alias(\"pct_some_college\"),\n",
    "    (sum(F.when(F.col(\"educattain\").isin(\"Bachelor's degree\", \"Graduate degree\"), F.col(\"pwgtp\"))) / sum(\"pwgtp\") * 100).alias(\"pct_bachelors_or_higher\"),\n",
    "    \n",
    "    (sum(F.when(F.col(\"work_experience\") == \"Full-time, year-round\", F.col(\"pwgtp\"))) / sum(\"pwgtp\") * 100).alias(\"pct_full_time\"),\n",
    "    (sum(F.when(F.col(\"work_experience\").isin(\"Part-time, year-round\", \"Full-time, part-year\", \"Part-time, part-year\"), F.col(\"pwgtp\"))) / sum(\"pwgtp\") * 100).alias(\"pct_part_time_or_part_year\"),\n",
    "    \n",
    "    (sum(F.when(F.col(\"disability_status\") == \"With disability\", F.col(\"pwgtp\"))) / sum(\"pwgtp\") * 100).alias(\"pct_with_disability\")\n",
    ")\n",
    "\n"
   ]
  },
  {
   "cell_type": "code",
   "execution_count": 0,
   "metadata": {
    "application/vnd.databricks.v1+cell": {
     "cellMetadata": {
      "byteLimit": 2048000,
      "rowLimit": 10000
     },
     "inputWidgets": {},
     "nuid": "6596e063-0c3d-40b9-9a2d-aab18fa8fac4",
     "showTitle": false,
     "tableResultSettingsMap": {},
     "title": ""
    }
   },
   "outputs": [],
   "source": [
    "df_hiv_poverty = df_hiv_agg.join(\n",
    "    df_poverty_agg,\n",
    "    on=[\"year\", \"borough\", \"gender\", \"age\", \"race\"],\n",
    "    how=\"inner\"\n",
    ")\n"
   ]
  },
  {
   "cell_type": "code",
   "execution_count": 0,
   "metadata": {
    "application/vnd.databricks.v1+cell": {
     "cellMetadata": {
      "byteLimit": 2048000,
      "rowLimit": 10000
     },
     "inputWidgets": {},
     "nuid": "65b134dd-6a46-4018-80c9-670f9a4e4ac9",
     "showTitle": false,
     "tableResultSettingsMap": {},
     "title": ""
    }
   },
   "outputs": [],
   "source": [
    "print(f\"Number of rows after joining: {df_hiv_poverty.count()}\")\n",
    "display(df_hiv_poverty.limit(10))"
   ]
  },
  {
   "cell_type": "code",
   "execution_count": 0,
   "metadata": {
    "application/vnd.databricks.v1+cell": {
     "cellMetadata": {
      "byteLimit": 2048000,
      "rowLimit": 10000
     },
     "inputWidgets": {},
     "nuid": "465a8367-dad7-4a4c-8769-9f4503b37802",
     "showTitle": false,
     "tableResultSettingsMap": {},
     "title": ""
    }
   },
   "outputs": [],
   "source": [
    "df_borough_analysis = df_hiv_poverty.groupBy(\"year\", \"borough\").agg(\n",
    "    sum(\"weighted_population\").alias(\"total_population\"),\n",
    "    \n",
    "    sum(\"hiv_diagnoses_total\").alias(\"hiv_diagnoses\"),\n",
    "    (sum(\"hiv_diagnoses_total\") / sum(\"weighted_population\") * 100000).alias(\"hiv_rate_per_100k\"),\n",
    "    avg(\"plwdhi_prevalence_avg\").alias(\"hiv_prevalence\"),\n",
    "    avg(\"perc_viral_suppression_avg\").alias(\"viral_suppression_rate\"),\n",
    "    \n",
    "    avg(\"poverty_rate\").alias(\"poverty_rate\"),\n",
    "    avg(\"avg_income\").alias(\"avg_income\"),\n",
    "    \n",
    "    avg(\"pct_bachelors_or_higher\").alias(\"pct_bachelors_or_higher\")\n",
    ")\n"
   ]
  },
  {
   "cell_type": "code",
   "execution_count": 0,
   "metadata": {
    "application/vnd.databricks.v1+cell": {
     "cellMetadata": {
      "byteLimit": 2048000,
      "rowLimit": 10000
     },
     "inputWidgets": {},
     "nuid": "5f3ddd58-d323-43a5-8730-7019fc958ccd",
     "showTitle": false,
     "tableResultSettingsMap": {},
     "title": ""
    }
   },
   "outputs": [],
   "source": [
    "df_race_analysis = df_hiv_poverty.groupBy(\"year\", \"race\").agg(\n",
    "    sum(\"weighted_population\").alias(\"total_population\"),\n",
    "    \n",
    "    sum(\"hiv_diagnoses_total\").alias(\"hiv_diagnoses\"),\n",
    "    (sum(\"hiv_diagnoses_total\") / sum(\"weighted_population\") * 100000).alias(\"hiv_rate_per_100k\"),\n",
    "    avg(\"plwdhi_prevalence_avg\").alias(\"hiv_prevalence\"),\n",
    "    avg(\"perc_viral_suppression_avg\").alias(\"viral_suppression_rate\"),\n",
    "    \n",
    "    avg(\"poverty_rate\").alias(\"poverty_rate\"),\n",
    "    avg(\"avg_income\").alias(\"avg_income\"),\n",
    "    avg(\"pct_bachelors_or_higher\").alias(\"pct_bachelors_or_higher\")\n",
    ")\n"
   ]
  },
  {
   "cell_type": "code",
   "execution_count": 0,
   "metadata": {
    "application/vnd.databricks.v1+cell": {
     "cellMetadata": {
      "byteLimit": 2048000,
      "rowLimit": 10000
     },
     "inputWidgets": {},
     "nuid": "1676a3df-ba11-4ec6-93e8-d88d06046bdc",
     "showTitle": false,
     "tableResultSettingsMap": {},
     "title": ""
    }
   },
   "outputs": [],
   "source": [
    "df_yearly_trends = df_hiv_poverty.groupBy(\"year\").agg(\n",
    "    sum(\"weighted_population\").alias(\"total_population\"),\n",
    "    \n",
    "    sum(\"hiv_diagnoses_total\").alias(\"hiv_diagnoses\"),\n",
    "    (sum(\"hiv_diagnoses_total\") / sum(\"weighted_population\") * 100000).alias(\"hiv_rate_per_100k\"),\n",
    "    avg(\"plwdhi_prevalence_avg\").alias(\"hiv_prevalence\"),\n",
    "    sum(\"aids_diagnoses_total\").alias(\"aids_diagnoses\"),\n",
    "    sum(\"deaths_total\").alias(\"hiv_deaths\"),\n",
    "    avg(\"perc_viral_suppression_avg\").alias(\"viral_suppression_rate\"),\n",
    "    \n",
    "    avg(\"poverty_rate\").alias(\"poverty_rate\"),\n",
    "    avg(\"avg_income\").alias(\"avg_income\"),\n",
    "    avg(\"pct_bachelors_or_higher\").alias(\"pct_bachelors_or_higher\"),\n",
    "    avg(\"pct_full_time\").alias(\"pct_full_time_employment\")\n",
    ")\n"
   ]
  },
  {
   "cell_type": "code",
   "execution_count": 0,
   "metadata": {
    "application/vnd.databricks.v1+cell": {
     "cellMetadata": {
      "byteLimit": 2048000,
      "rowLimit": 10000
     },
     "inputWidgets": {},
     "nuid": "0c9e56c5-6393-45cb-8bec-95604eef713c",
     "showTitle": false,
     "tableResultSettingsMap": {},
     "title": ""
    }
   },
   "outputs": [],
   "source": [
    "df_borough_race = df_hiv_poverty.groupBy(\"year\", \"borough\", \"race\").agg(\n",
    "    sum(\"weighted_population\").alias(\"total_population\"),\n",
    "    \n",
    "    sum(\"hiv_diagnoses_total\").alias(\"hiv_diagnoses\"),\n",
    "    (sum(\"hiv_diagnoses_total\") / sum(\"weighted_population\") * 100000).alias(\"hiv_rate_per_100k\"),\n",
    "    avg(\"plwdhi_prevalence_avg\").alias(\"hiv_prevalence\"),\n",
    "    \n",
    "    avg(\"poverty_rate\").alias(\"poverty_rate\"),\n",
    "    avg(\"avg_income\").alias(\"avg_income\")\n",
    ")\n"
   ]
  },
  {
   "cell_type": "code",
   "execution_count": 0,
   "metadata": {
    "application/vnd.databricks.v1+cell": {
     "cellMetadata": {
      "byteLimit": 2048000,
      "rowLimit": 10000
     },
     "inputWidgets": {},
     "nuid": "16e6b805-7ed6-4575-b04a-f822d50bc7bd",
     "showTitle": false,
     "tableResultSettingsMap": {},
     "title": ""
    }
   },
   "outputs": [],
   "source": [
    "df_hiv_poverty = df_hiv_poverty.withColumn(\n",
    "    \"poverty_level\",\n",
    "    when(col(\"poverty_rate\") < 10, \"Low (<10%)\") \n",
    "    .when(col(\"poverty_rate\").between(10, 20), \"Medium (10-20%)\")\n",
    "    .when(col(\"poverty_rate\").between(20, 30), \"High (20-30%)\")\n",
    "    .when(col(\"poverty_rate\") > 30, \"Very High (>30%)\")\n",
    "    .otherwise(\"Unknown\")\n",
    ")"
   ]
  },
  {
   "cell_type": "code",
   "execution_count": 0,
   "metadata": {
    "application/vnd.databricks.v1+cell": {
     "cellMetadata": {
      "byteLimit": 2048000,
      "rowLimit": 10000
     },
     "inputWidgets": {},
     "nuid": "a01f456b-cd1c-43d4-b7fd-06dbe648538a",
     "showTitle": false,
     "tableResultSettingsMap": {},
     "title": ""
    }
   },
   "outputs": [],
   "source": [
    "df_poverty_correlation = df_hiv_poverty.groupBy(\"year\", \"poverty_level\").agg(\n",
    "    sum(\"weighted_population\").alias(\"total_population\"),\n",
    "    \n",
    "    sum(\"hiv_diagnoses_total\").alias(\"hiv_diagnoses\"),\n",
    "    (sum(\"hiv_diagnoses_total\") / sum(\"weighted_population\") * 100000).alias(\"hiv_rate_per_100k\"),\n",
    "    avg(\"plwdhi_prevalence_avg\").alias(\"hiv_prevalence\"),\n",
    "    avg(\"perc_viral_suppression_avg\").alias(\"viral_suppression_rate\")\n",
    ")\n"
   ]
  },
  {
   "cell_type": "code",
   "execution_count": 0,
   "metadata": {
    "application/vnd.databricks.v1+cell": {
     "cellMetadata": {
      "byteLimit": 2048000,
      "rowLimit": 10000
     },
     "inputWidgets": {},
     "nuid": "28629544-78d6-4a58-b516-fbbb82a97b42",
     "showTitle": false,
     "tableResultSettingsMap": {},
     "title": ""
    }
   },
   "outputs": [],
   "source": [
    "df_hiv_poverty = df_hiv_poverty.withColumn(\n",
    "    \"education_level\",\n",
    "    when(col(\"pct_bachelors_or_higher\") > 40, \"High Education (>40% college degree)\")\n",
    "    .when(col(\"pct_bachelors_or_higher\").between(20, 40), \"Medium Education (20-40%)\")\n",
    "    .when(col(\"pct_bachelors_or_higher\") < 20, \"Low Education (<20%)\")\n",
    "    .otherwise(\"Unknown\")\n",
    ")\n"
   ]
  },
  {
   "cell_type": "code",
   "execution_count": 0,
   "metadata": {
    "application/vnd.databricks.v1+cell": {
     "cellMetadata": {
      "byteLimit": 2048000,
      "rowLimit": 10000
     },
     "inputWidgets": {},
     "nuid": "27654d15-d025-4c74-a0d6-95caabcfcf78",
     "showTitle": false,
     "tableResultSettingsMap": {},
     "title": ""
    }
   },
   "outputs": [],
   "source": [
    "df_education_correlation = df_hiv_poverty.groupBy(\"year\", \"education_level\").agg(\n",
    "    sum(\"weighted_population\").alias(\"total_population\"),\n",
    "    \n",
    "    sum(\"hiv_diagnoses_total\").alias(\"hiv_diagnoses\"),\n",
    "    (sum(\"hiv_diagnoses_total\") / sum(\"weighted_population\") * 100000).alias(\"hiv_rate_per_100k\"),\n",
    "    avg(\"plwdhi_prevalence_avg\").alias(\"hiv_prevalence\"),\n",
    "    avg(\"perc_viral_suppression_avg\").alias(\"viral_suppression_rate\")\n",
    ")\n"
   ]
  },
  {
   "cell_type": "code",
   "execution_count": 0,
   "metadata": {
    "application/vnd.databricks.v1+cell": {
     "cellMetadata": {
      "byteLimit": 2048000,
      "rowLimit": 10000
     },
     "inputWidgets": {},
     "nuid": "fbc3b95c-dece-401c-9a77-d097503a4faa",
     "showTitle": false,
     "tableResultSettingsMap": {},
     "title": ""
    }
   },
   "outputs": [],
   "source": [
    "write_to_uc_table(\n",
    "    input_df=df_hiv_poverty,\n",
    "    table_name=\"hiv_poverty_integrated\",\n",
    "    mode=\"overwrite\",\n",
    "    catalog=\"catalog_de\",\n",
    "    schema=\"gold\"\n",
    ")\n"
   ]
  },
  {
   "cell_type": "code",
   "execution_count": 0,
   "metadata": {
    "application/vnd.databricks.v1+cell": {
     "cellMetadata": {
      "byteLimit": 2048000,
      "rowLimit": 10000
     },
     "inputWidgets": {},
     "nuid": "98ae37af-5d53-492f-be10-989c1535310f",
     "showTitle": false,
     "tableResultSettingsMap": {},
     "title": ""
    }
   },
   "outputs": [],
   "source": [
    "gold_tables = {\n",
    "    \"borough_analysis\": df_borough_analysis,\n",
    "    \"race_analysis\": df_race_analysis, \n",
    "    \"yearly_trends\": df_yearly_trends,\n",
    "    \"borough_race_analysis\": df_borough_race,\n",
    "    \"poverty_correlation\": df_poverty_correlation,\n",
    "    \"education_correlation\": df_education_correlation\n",
    "}"
   ]
  },
  {
   "cell_type": "code",
   "execution_count": 0,
   "metadata": {
    "application/vnd.databricks.v1+cell": {
     "cellMetadata": {
      "byteLimit": 2048000,
      "rowLimit": 10000
     },
     "inputWidgets": {},
     "nuid": "7ad9a04d-4877-4d8d-aa19-2e19c6cf8695",
     "showTitle": false,
     "tableResultSettingsMap": {},
     "title": ""
    }
   },
   "outputs": [],
   "source": [
    "for table_name, dataframe in gold_tables.items():\n",
    "    try:\n",
    "        write_to_uc_table(\n",
    "            input_df=dataframe,\n",
    "            table_name=table_name,\n",
    "            mode=\"overwrite\",\n",
    "            catalog=\"catalog_de\",\n",
    "            schema=\"gold\"\n",
    "        )\n",
    "        print(f\"Successfully wrote {table_name} to gold layer\")\n",
    "    except Exception as e:\n",
    "        print(f\"Error writing {table_name} to gold layer: {str(e)}\")\n"
   ]
  }
 ],
 "metadata": {
  "application/vnd.databricks.v1+notebook": {
   "computePreferences": null,
   "dashboards": [],
   "environmentMetadata": {
    "base_environment": "",
    "environment_version": "2"
   },
   "language": "python",
   "notebookMetadata": {
    "pythonIndentUnit": 4
   },
   "notebookName": "4. Gold (unity catalog)",
   "widgets": {}
  },
  "language_info": {
   "name": "python"
  }
 },
 "nbformat": 4,
 "nbformat_minor": 0
}
