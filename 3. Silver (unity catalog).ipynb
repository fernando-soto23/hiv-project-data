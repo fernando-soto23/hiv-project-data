{
 "cells": [
  {
   "cell_type": "code",
   "execution_count": 0,
   "metadata": {
    "application/vnd.databricks.v1+cell": {
     "cellMetadata": {
      "byteLimit": 2048000,
      "rowLimit": 10000
     },
     "inputWidgets": {},
     "nuid": "ea363924-5492-4e6c-8935-f60a0945824d",
     "showTitle": false,
     "tableResultSettingsMap": {},
     "title": ""
    }
   },
   "outputs": [],
   "source": [
    "from pyspark.sql import SparkSession\n",
    "\n",
    "spark = SparkSession.builder \\\n",
    "    .appName(\"hiv-project\") \\\n",
    "    .getOrCreate()"
   ]
  },
  {
   "cell_type": "code",
   "execution_count": 0,
   "metadata": {
    "application/vnd.databricks.v1+cell": {
     "cellMetadata": {
      "byteLimit": 2048000,
      "rowLimit": 10000
     },
     "inputWidgets": {},
     "nuid": "d83c8eae-c76a-458c-a513-63f7c7b5d988",
     "showTitle": false,
     "tableResultSettingsMap": {},
     "title": ""
    }
   },
   "outputs": [],
   "source": [
    "%pip uninstall -y databricks_helpers exercise_ev_databricks_unit_tests\n",
    "%pip install git+https://github.com/data-derp/databricks_helpers#egg=databricks_helpers git+https://github.com/data-derp/exercise_ev_databricks_unit_tests#egg=exercise_ev_databricks_unit_tests"
   ]
  },
  {
   "cell_type": "code",
   "execution_count": 0,
   "metadata": {
    "application/vnd.databricks.v1+cell": {
     "cellMetadata": {
      "byteLimit": 2048000,
      "rowLimit": 10000
     },
     "inputWidgets": {},
     "nuid": "47d82a9a-b849-451d-8c57-e04909d92e98",
     "showTitle": false,
     "tableResultSettingsMap": {},
     "title": ""
    }
   },
   "outputs": [],
   "source": [
    "from databricks_helpers.databricks_helpers import DataDerpDatabricksHelpers\n",
    "exercise_name = \"hiv-project\"\n",
    "helpers = DataDerpDatabricksHelpers(dbutils, exercise_name)"
   ]
  },
  {
   "cell_type": "markdown",
   "metadata": {
    "application/vnd.databricks.v1+cell": {
     "cellMetadata": {
      "byteLimit": 2048000,
      "rowLimit": 10000
     },
     "inputWidgets": {},
     "nuid": "c8c2be2e-306d-4bed-bf86-010add972353",
     "showTitle": false,
     "tableResultSettingsMap": {},
     "title": ""
    }
   },
   "source": [
    "# SILVER"
   ]
  },
  {
   "cell_type": "markdown",
   "metadata": {
    "application/vnd.databricks.v1+cell": {
     "cellMetadata": {
      "byteLimit": 2048000,
      "rowLimit": 10000
     },
     "inputWidgets": {},
     "nuid": "e89d12f3-2a62-4297-9407-8c53460894d4",
     "showTitle": false,
     "tableResultSettingsMap": {},
     "title": ""
    }
   },
   "source": [
    "## Read from Bronze"
   ]
  },
  {
   "cell_type": "code",
   "execution_count": 0,
   "metadata": {
    "application/vnd.databricks.v1+cell": {
     "cellMetadata": {
      "byteLimit": 2048000,
      "rowLimit": 10000
     },
     "inputWidgets": {},
     "nuid": "05cd46b8-5d42-40a4-8879-eccbb6647ab7",
     "showTitle": false,
     "tableResultSettingsMap": {},
     "title": ""
    }
   },
   "outputs": [],
   "source": [
    "from pyspark.sql import DataFrame, SparkSession\n",
    "from pyspark.sql import functions as F\n",
    "from pyspark.sql.types import DoubleType, IntegerType, StringType\n",
    "from utils import write_to_uc_table\n",
    "from pyspark.sql.functions import col, when, lit, regexp_replace, isnan\n"
   ]
  },
  {
   "cell_type": "code",
   "execution_count": 0,
   "metadata": {
    "application/vnd.databricks.v1+cell": {
     "cellMetadata": {
      "byteLimit": 2048000,
      "rowLimit": 10000
     },
     "inputWidgets": {},
     "nuid": "ff57565a-8f1f-4ade-9388-7bbc66fc4a92",
     "showTitle": false,
     "tableResultSettingsMap": {},
     "title": ""
    }
   },
   "outputs": [],
   "source": [
    "def read_from_unity_catalog(table_name: str) -> DataFrame:\n",
    "    return spark.read.table(table_name)"
   ]
  },
  {
   "cell_type": "code",
   "execution_count": 0,
   "metadata": {
    "application/vnd.databricks.v1+cell": {
     "cellMetadata": {
      "byteLimit": 2048000,
      "rowLimit": 10000
     },
     "inputWidgets": {},
     "nuid": "abd8400d-cbcd-4c7b-b11d-3195affa30ab",
     "showTitle": false,
     "tableResultSettingsMap": {},
     "title": ""
    }
   },
   "outputs": [],
   "source": [
    "bronze_df = read_from_unity_catalog(\"catalog_de.bronze.raw_hiv_data\")\n"
   ]
  },
  {
   "cell_type": "code",
   "execution_count": 0,
   "metadata": {
    "application/vnd.databricks.v1+cell": {
     "cellMetadata": {
      "byteLimit": 2048000,
      "rowLimit": 10000
     },
     "inputWidgets": {},
     "nuid": "35dba9ac-9f81-43e1-9c6b-a2bb5ade972f",
     "showTitle": false,
     "tableResultSettingsMap": {},
     "title": ""
    }
   },
   "outputs": [],
   "source": [
    "available_years = [2011, 2012, 2013, 2014, 2015, 2017, 2018]\n",
    "poverty_dfs = {}\n",
    "\n",
    "for year in available_years:\n",
    "    poverty_dfs[year] = read_from_unity_catalog(f\"catalog_de.bronze.raw_poverty_{year}\")\n",
    "\n"
   ]
  },
  {
   "cell_type": "markdown",
   "metadata": {
    "application/vnd.databricks.v1+cell": {
     "cellMetadata": {
      "byteLimit": 2048000,
      "rowLimit": 10000
     },
     "inputWidgets": {},
     "nuid": "15764dd9-5a6e-47fa-8359-32ad274d5a87",
     "showTitle": false,
     "tableResultSettingsMap": {},
     "title": ""
    }
   },
   "source": [
    "hiv"
   ]
  },
  {
   "cell_type": "code",
   "execution_count": 0,
   "metadata": {
    "application/vnd.databricks.v1+cell": {
     "cellMetadata": {
      "byteLimit": 2048000,
      "rowLimit": 10000
     },
     "inputWidgets": {},
     "nuid": "932dba52-14e3-4bfe-826b-96275fc651d3",
     "showTitle": false,
     "tableResultSettingsMap": {},
     "title": ""
    }
   },
   "outputs": [],
   "source": [
    "hiv_silver = bronze_df.withColumn(\"hiv_diagnosis_rate\", \n",
    "                       when(col(\"hiv_diagnosis_rate\") == 99999, None).otherwise(col(\"hiv_diagnosis_rate\")))\n"
   ]
  },
  {
   "cell_type": "code",
   "execution_count": 0,
   "metadata": {
    "application/vnd.databricks.v1+cell": {
     "cellMetadata": {
      "byteLimit": 2048000,
      "rowLimit": 10000
     },
     "inputWidgets": {},
     "nuid": "7d374247-cf9e-4288-83a7-de93f0fc0bb9",
     "showTitle": false,
     "tableResultSettingsMap": {},
     "title": ""
    }
   },
   "outputs": [],
   "source": [
    "def replace_missing_values(df: DataFrame, columns: list, missing_value=99999, replacement=None) -> DataFrame:\n",
    "    result_df = df\n",
    "    for column in columns:\n",
    "        result_df = result_df.withColumn(\n",
    "            column, \n",
    "            when(col(column) == missing_value, replacement).otherwise(col(column))\n",
    "        )\n",
    "    return result_df"
   ]
  },
  {
   "cell_type": "code",
   "execution_count": 0,
   "metadata": {
    "application/vnd.databricks.v1+cell": {
     "cellMetadata": {
      "byteLimit": 2048000,
      "rowLimit": 10000
     },
     "inputWidgets": {},
     "nuid": "651d4e71-2bed-406d-88b1-e65f55c039e1",
     "showTitle": false,
     "tableResultSettingsMap": {},
     "title": ""
    }
   },
   "outputs": [],
   "source": [
    "columns_to_clean = [\n",
    "    \"perc_linked_to_care_within_3_months\", \n",
    "    \"aids_diagnoses\", \n",
    "    \"aids_diagnosis_rate\",\n",
    "    \"plwdhi_prevalence\",\n",
    "    \"perc_viral_suppression\",\n",
    "    \"deaths\",\n",
    "    \"death_rate\",\n",
    "    \"hiv_related_death_rate\",\n",
    "    \"non_hiv_related_death_rate\"\n",
    "]\n",
    "\n",
    "hiv_silver = replace_missing_values(hiv_silver, columns_to_clean)"
   ]
  },
  {
   "cell_type": "code",
   "execution_count": 0,
   "metadata": {
    "application/vnd.databricks.v1+cell": {
     "cellMetadata": {
      "byteLimit": 2048000,
      "rowLimit": 10000
     },
     "inputWidgets": {},
     "nuid": "2b5c6149-9052-4fe6-af5d-d830a4257318",
     "showTitle": false,
     "tableResultSettingsMap": {},
     "title": ""
    }
   },
   "outputs": [],
   "source": [
    "def test_replace_missing_values():\n",
    "    test_data = [\n",
    "        (1, 10, 99999),\n",
    "        (2, 99999, 40),\n",
    "        (3, 99999, 99999)\n",
    "    ]\n",
    "    test_df = spark.createDataFrame(test_data, [\"id\", \"value1\", \"value2\"])\n",
    "\n",
    "    result_df = replace_missing_values(test_df, [\"value1\", \"value2\"])\n",
    "    results = [row.asDict() for row in result_df.collect()]\n",
    "    assert results[0][\"value1\"] == 10\n",
    "    assert results[0][\"value2\"] is None  \n",
    "    assert results[1][\"value1\"] is None\n",
    "    assert results[1][\"value2\"] == 40\n",
    "    assert results[2][\"value1\"] is None  \n",
    "    assert results[2][\"value2\"] is None  \n",
    "    \n",
    "    assert result_df.filter((col(\"value1\") == 99999) | (col(\"value2\") == 99999)).count() == 0\n",
    "\n",
    "    print(\"All tests passed!\")\n",
    "\n",
    "test_replace_missing_values()"
   ]
  },
  {
   "cell_type": "code",
   "execution_count": 0,
   "metadata": {
    "application/vnd.databricks.v1+cell": {
     "cellMetadata": {
      "byteLimit": 2048000,
      "rowLimit": 10000
     },
     "inputWidgets": {},
     "nuid": "1aeabb68-724b-48b0-aeca-92e8dbfef1b1",
     "showTitle": false,
     "tableResultSettingsMap": {},
     "title": ""
    }
   },
   "outputs": [],
   "source": [
    "hiv_silver = hiv_silver.withColumn(\"perc_linked_to_care_within_3_months\", \n",
    "                       when(col(\"perc_linked_to_care_within_3_months\").isNotNull() & \n",
    "                            (col(\"perc_linked_to_care_within_3_months\") <= 1),\n",
    "                            col(\"perc_linked_to_care_within_3_months\") * 100).otherwise(col(\"perc_linked_to_care_within_3_months\")))\n",
    "hiv_silver = hiv_silver.withColumn(\"perc_viral_suppression\", \n",
    "                       when(col(\"perc_viral_suppression\").isNotNull() & \n",
    "                            (col(\"perc_viral_suppression\") <= 1),\n",
    "                            col(\"perc_viral_suppression\") * 100).otherwise(col(\"perc_viral_suppression\")))\n",
    "\n"
   ]
  },
  {
   "cell_type": "code",
   "execution_count": 0,
   "metadata": {
    "application/vnd.databricks.v1+cell": {
     "cellMetadata": {
      "byteLimit": 2048000,
      "rowLimit": 10000
     },
     "inputWidgets": {},
     "nuid": "aeff05eb-b38c-4abb-8223-31ece99d7d5e",
     "showTitle": false,
     "tableResultSettingsMap": {},
     "title": ""
    }
   },
   "outputs": [],
   "source": [
    "int_columns = [\"hiv_diagnoses\", \"concurrent_diagnoses\", \"aids_diagnoses\", \"deaths\"]\n",
    "for column in int_columns:\n",
    "    hiv_silver = hiv_silver.withColumn(column, \n",
    "                           when(col(column).isNotNull(), col(column).cast(\"integer\")).otherwise(None))\n"
   ]
  },
  {
   "cell_type": "code",
   "execution_count": 0,
   "metadata": {
    "application/vnd.databricks.v1+cell": {
     "cellMetadata": {
      "byteLimit": 2048000,
      "rowLimit": 10000
     },
     "inputWidgets": {},
     "nuid": "7295731f-8e10-4473-b97c-12d23288695d",
     "showTitle": false,
     "tableResultSettingsMap": {},
     "title": ""
    }
   },
   "outputs": [],
   "source": [
    "hiv_silver = hiv_silver.withColumn(\"race\"\n",
    "                  ,when(col(\"race\") == \"Black\", \"Black\")\n",
    "                  .when(col(\"race\") == \"White\", \"White\")\n",
    "                  .when(col(\"race\") == \"Latino/Hispanic\", \"Hispanic\")\n",
    "                  .when(col(\"race\") == \"Latinx/Hispanic\", \"Hispanic\")\n",
    "                  .when(col(\"race\") == \"Asian/Pacific Islander\", \"Asian\")\n",
    "                  .when(col(\"race\") == \"Other/Unknown\", \"Other\")\n",
    "                  .otherwise(col(\"race\")))"
   ]
  },
  {
   "cell_type": "code",
   "execution_count": 0,
   "metadata": {
    "application/vnd.databricks.v1+cell": {
     "cellMetadata": {
      "byteLimit": 2048000,
      "rowLimit": 10000
     },
     "inputWidgets": {},
     "nuid": "4d5bfbb4-c08b-47e8-9170-fa5252b75cca",
     "showTitle": false,
     "tableResultSettingsMap": {},
     "title": ""
    }
   },
   "outputs": [],
   "source": [
    "hiv_silver = hiv_silver.withColumn(\"gender\"\n",
    "                    , when(col(\"gender\").isin(\"Male\", \"Men\"), \"Male\")\n",
    "                      .when(col(\"gender\").isin(\"Female\", \"Women\"), \"Female\")\n",
    "                      .when(col(\"gender\") == \"Transgender\", \"Transgender\")\n",
    "                      .otherwise(col(\"gender\")))\n",
    "\n",
    "hiv_silver = hiv_silver.filter(col(\"gender\") != \"Transgender\")"
   ]
  },
  {
   "cell_type": "code",
   "execution_count": 0,
   "metadata": {
    "application/vnd.databricks.v1+cell": {
     "cellMetadata": {
      "byteLimit": 2048000,
      "rowLimit": 10000
     },
     "inputWidgets": {},
     "nuid": "3fcd0e78-3cea-47ee-90b5-c502477c7ed4",
     "showTitle": false,
     "tableResultSettingsMap": {},
     "title": ""
    }
   },
   "outputs": [],
   "source": [
    "float_columns = [\"hiv_diagnosis_rate\", \"perc_linked_to_care_within_3_months\", \n",
    "                 \"aids_diagnosis_rate\", \"plwdhi_prevalence\", \"perc_viral_suppression\", \n",
    "                 \"death_rate\", \"hiv_related_death_rate\", \"non_hiv_related_death_rate\"]\n",
    "for column in float_columns:\n",
    "    hiv_silver = hiv_silver.withColumn(column, \n",
    "                           when(col(column).isNotNull(), col(column).cast(\"double\")).otherwise(None))\n"
   ]
  },
  {
   "cell_type": "code",
   "execution_count": 0,
   "metadata": {
    "application/vnd.databricks.v1+cell": {
     "cellMetadata": {
      "byteLimit": 2048000,
      "rowLimit": 10000
     },
     "inputWidgets": {},
     "nuid": "508bbf85-8502-4e19-9770-c5053ffd1d5d",
     "showTitle": false,
     "tableResultSettingsMap": {},
     "title": ""
    }
   },
   "outputs": [],
   "source": [
    "valid_years = [2011, 2012, 2013, 2014, 2015, 2017, 2018]\n",
    "hiv_silver = hiv_silver \\\n",
    "    .filter(~col(\"Age\").isin(\"All\")) \\\n",
    "    .filter(~col(\"Race\").isin(\"All\")) \\\n",
    "    .filter(~col(\"Gender\").isin(\"All\")) \\\n",
    "    .filter(~col(\"Borough\").isin(\"All\")) \\\n",
    "    .filter(~col(\"Year\").isin(\"All\")) \\\n",
    "    .filter(col(\"Year\").isin(valid_years))\n",
    "\n"
   ]
  },
  {
   "cell_type": "code",
   "execution_count": 0,
   "metadata": {
    "application/vnd.databricks.v1+cell": {
     "cellMetadata": {
      "byteLimit": 2048000,
      "rowLimit": 10000
     },
     "inputWidgets": {},
     "nuid": "9d84f90c-1318-47cc-ac66-1de085abc612",
     "showTitle": false,
     "tableResultSettingsMap": {},
     "title": ""
    }
   },
   "outputs": [],
   "source": [
    "try:\n",
    "    write_to_uc_table(\n",
    "    input_df=hiv_silver,\n",
    "    table_name=\"hiv_data_clean\",\n",
    "    mode=\"overwrite\",\n",
    "    catalog=\"catalog_de\",\n",
    "    schema=\"silver\"\n",
    "    )\n",
    "except Exception as e:\n",
    "    print(f\"Error writing to silver layer: {str(e)}\")"
   ]
  },
  {
   "cell_type": "markdown",
   "metadata": {
    "application/vnd.databricks.v1+cell": {
     "cellMetadata": {
      "byteLimit": 2048000,
      "rowLimit": 10000
     },
     "inputWidgets": {},
     "nuid": "2217b447-3963-43ef-a12a-1e2b809ae21f",
     "showTitle": false,
     "tableResultSettingsMap": {},
     "title": ""
    }
   },
   "source": [
    "Poverty"
   ]
  },
  {
   "cell_type": "code",
   "execution_count": 0,
   "metadata": {
    "application/vnd.databricks.v1+cell": {
     "cellMetadata": {
      "byteLimit": 2048000,
      "rowLimit": 10000
     },
     "inputWidgets": {},
     "nuid": "369fa5b3-df7c-4d58-b77d-6a80bec1967b",
     "showTitle": false,
     "tableResultSettingsMap": {},
     "title": ""
    }
   },
   "outputs": [],
   "source": [
    "category_cols_ranges = {\n",
    "    \"cit\": (1, 5),         \n",
    "    \"rel\": (1, 20),        \n",
    "    \"sch\": (1, 3),         \n",
    "    \"schg\": (1, 25),       \n",
    "    \"schl\": (1, 24),       \n",
    "    \"sex\": (1, 2),         \n",
    "    \"esr\": (1, 6),         \n",
    "    \"lanx\": (1, 2),        \n",
    "    \"eng\": (1, 5),        \n",
    "    \"msp\": (1, 2),        \n",
    "    \"mar\": (1, 5),        \n",
    "    \"wkw\": (1, 3),         \n",
    "    \"dis\": (1, 2),       \n",
    "    \"jwtr\": (1, 12),       \n",
    "    \"ten\": (1, 4),        \n",
    "    \"hht\": (1, 7),        \n",
    "    \"agecateg\": (1, 7),    \n",
    "    \"boro\": (1, 5),       \n",
    "    \"citizenstatus\": (1, 3),\n",
    "    \"educattain\": (1, 5),   \n",
    "    \"ethnicity\": (1, 5),   \n",
    "    \"famtype_pu\": (1, 6),  \n",
    "    \"ftptwork\": (1, 4),     \n",
    "    \"nycgov_pov_stat\": (0, 1), \n",
    "    \"off_pov_stat\": (0, 1)  \n",
    "}"
   ]
  },
  {
   "cell_type": "code",
   "execution_count": 0,
   "metadata": {
    "application/vnd.databricks.v1+cell": {
     "cellMetadata": {
      "byteLimit": 2048000,
      "rowLimit": 10000
     },
     "inputWidgets": {},
     "nuid": "dd53101c-add1-4a3f-87e8-2fa789d7b07a",
     "showTitle": false,
     "tableResultSettingsMap": {},
     "title": ""
    }
   },
   "outputs": [],
   "source": [
    "category_cols_mappings = {\n",
    "    \"sex\": {\n",
    "        1: \"Male\",\n",
    "        2: \"Female\"\n",
    "    },\n",
    "    \"boro\": {\n",
    "        1: \"Bronx\",\n",
    "        2: \"Brooklyn\",\n",
    "        3: \"Manhattan\",\n",
    "        4: \"Queens\",\n",
    "        5: \"Staten Island\"\n",
    "    },\n",
    "    \"citizenstatus\": {\n",
    "        1: \"Citizen, native\",\n",
    "        2: \"Citizen, naturalized\",\n",
    "        3: \"Non-citizen\"\n",
    "    },\n",
    "    \"educattain\": {\n",
    "        1: \"Less than high school\",\n",
    "        2: \"High school diploma\",\n",
    "        3: \"Some college\",\n",
    "        4: \"Bachelor's degree\",\n",
    "        5: \"Graduate degree\"\n",
    "    },\n",
    "    \"ethnicity\": {\n",
    "        1: \"White\",\n",
    "        2: \"Black\",\n",
    "        3: \"Asian\",\n",
    "        4: \"Hispanic\",\n",
    "        5: \"Other\"\n",
    "    },\n",
    "    \"famtype_pu\": {\n",
    "        1: \"Married couple\",\n",
    "        2: \"Male householder, no spouse\",\n",
    "        3: \"Female householder, no spouse\",\n",
    "        4: \"Non-family household\",\n",
    "        5: \"Individual\",\n",
    "        6: \"Other\"\n",
    "    },\n",
    "    \"ftptwork\": {\n",
    "        1: \"Full-time, year-round\",\n",
    "        2: \"Part-time, year-round\",\n",
    "        3: \"Full-time, part-year\",\n",
    "        4: \"Part-time, part-year\"\n",
    "    },\n",
    "    \"dis\": {\n",
    "        1: \"With disability\",\n",
    "        2: \"Without disability\"\n",
    "    },\n",
    "    \"nycgov_pov_stat\": {\n",
    "        0: \"Not in poverty\",\n",
    "        1: \"In poverty\"\n",
    "    },\n",
    "    \"off_pov_stat\": {\n",
    "        0: \"Not in poverty\",\n",
    "        1: \"In poverty\"\n",
    "    },\n",
    "    \"ten\": {\n",
    "        1: \"Owned with mortgage\",\n",
    "        2: \"Owned free and clear\",\n",
    "        3: \"Rented\",\n",
    "        4: \"Occupied without payment\"\n",
    "    }\n",
    "}\n",
    "\n",
    "field_standardization = {\n",
    "        \"famtype_pu\": \"family_type\",\n",
    "        \"ftptwork\": \"work_experience\",\n",
    "        \"totalworkhrs_pu\": \"total_work_hours\"\n",
    "}"
   ]
  },
  {
   "cell_type": "code",
   "execution_count": 0,
   "metadata": {
    "application/vnd.databricks.v1+cell": {
     "cellMetadata": {
      "byteLimit": 2048000,
      "rowLimit": 10000
     },
     "inputWidgets": {},
     "nuid": "c0cd9c12-2204-40e2-8fd2-1af3c3d4963f",
     "showTitle": false,
     "tableResultSettingsMap": {},
     "title": ""
    }
   },
   "outputs": [],
   "source": [
    "numeric_cols = [\n",
    "    \"pwgtp\", \"wgtp\", \"agep\", \"est_childcare\", \"est_commuting\", \"est_eitc\", \n",
    "    \"est_ficatax\", \"est_heap\", \"est_housing\", \"est_incometax\", \"est_moop\", \n",
    "    \"est_nutrition\", \"est_povgap\", \"est_povgapindex\", \"intp_adj\", \"mrgp_adj\", \n",
    "    \"nycgov_income\", \"nycgov_threshold\", \"off_threshold\", \"oi_adj\", \"pa_adj\", \n",
    "    \"pretaxincome_pu\", \"retp_adj\", \"rntp_adj\", \"semp_adj\", \"ssip_adj\", \"ssp_adj\", \n",
    "    \"totalworkhrs_pu\", \"wagp_adj\"\n",
    "]"
   ]
  },
  {
   "cell_type": "code",
   "execution_count": 0,
   "metadata": {
    "application/vnd.databricks.v1+cell": {
     "cellMetadata": {
      "byteLimit": 2048000,
      "rowLimit": 10000
     },
     "inputWidgets": {},
     "nuid": "06a25c26-3667-45c6-8661-27ab53d8e5ea",
     "showTitle": false,
     "tableResultSettingsMap": {},
     "title": ""
    }
   },
   "outputs": [],
   "source": [
    "def process_yearly_df(df, year):\n",
    "    print(f\"Starting processing for {year}\")\n",
    "    if df is None:\n",
    "        print(f\"Cannot process data for year {year}: DataFrame is None\")\n",
    "        return None\n",
    "    \n",
    "    print(f\"Starting processing for year {year} with columns: {df.columns}\")\n",
    "\n",
    "    original_columns = df.columns\n",
    "    for col_name in original_columns:\n",
    "        df = df.withColumnRenamed(col_name, col_name.lower())\n",
    "\n",
    "    \n",
    "    initial_count = df.count()\n",
    "    df = df.dropDuplicates([\"serialno\", \"sporder\"])\n",
    "    final_count = df.count()\n",
    "    if initial_count != final_count:\n",
    "        print(f\"Removed {initial_count - final_count} duplicate records\")\n",
    "\n",
    "    key_columns = [\"serialno\", \"sporder\", \"pwgtp\", \"agep\", \"sex\"]\n",
    "    for col in key_columns:\n",
    "        if col in df.columns:\n",
    "            null_count = df.filter(F.col(col).isNull()).count()\n",
    "            if null_count > 0:\n",
    "                print(f\"Found {null_count} NULL values in key column '{col}'\")\n",
    "    \n",
    "    for col, (min_val, max_val) in category_cols_ranges.items():\n",
    "            if col in df.columns:\n",
    "                out_of_range_count = df.filter(\n",
    "                    ~F.col(col).between(min_val, max_val) & \n",
    "                    F.col(col).isNotNull()\n",
    "                ).count()\n",
    "                \n",
    "                if out_of_range_count > 0:\n",
    "                    print(f\"Column {col} has {out_of_range_count} values outside expected range ({min_val}-{max_val})\")\n",
    "                df = df.withColumn(\n",
    "                    col,\n",
    "                    F.when(\n",
    "                        F.col(col).between(min_val, max_val) | F.col(col).isNull(),\n",
    "                        F.col(col)\n",
    "                    ).otherwise(None)\n",
    "                )\n",
    "        \n",
    "    transformed_cols = []\n",
    "    for col, value_map in category_cols_mappings.items():\n",
    "        if col in df.columns:\n",
    "            mapping_expr = F.col(col)\n",
    "            for code, value in value_map.items():\n",
    "                mapping_expr = F.when(F.col(col) == code, value).otherwise(mapping_expr)\n",
    "                \n",
    "            df = df.withColumn(col, mapping_expr)\n",
    "            transformed_cols.append(col)\n",
    "    print(f\"Applied categorical mappings to {len(transformed_cols)} columns\")\n",
    "\n",
    "    field_standardization = {\n",
    "            \"famtype_pu\": \"family_type\",\n",
    "            \"ftptwork\": \"work_experience\",\n",
    "            \"totalworkhrs_pu\": \"total_work_hours\"\n",
    "        }\n",
    "    \n",
    "    for original_field, standardized_field in field_standardization.items():\n",
    "            if original_field in df.columns:\n",
    "                df = df.withColumn(standardized_field, F.col(original_field))\n",
    "\n",
    "    if \"dis\" in df.columns:\n",
    "        df = df.withColumn(\"disability_status\", F.col(\"dis\"))\n",
    "    for col in numeric_cols:\n",
    "        if col in df.columns:\n",
    "            can_be_negative = [\"semp_adj\", \"intp_adj\"]        \n",
    "            if col not in can_be_negative:\n",
    "                df = df.withColumn(\n",
    "                        col,\n",
    "                        F.when(F.col(col) < 0, None).otherwise(F.col(col))\n",
    "                    )\n",
    "        df = df.withColumn(col, F.col(col).cast(DoubleType()))\n",
    "    \n",
    "    print(f\"Standardized {len(numeric_cols)} numeric columns\")\n",
    "             \n",
    "    df = df.withColumn(\"age_group\", \n",
    "        F.when(F.col(\"agep\") < 13, \"Under 13\")\n",
    "         .when((F.col(\"agep\") >= 13) & (F.col(\"agep\") <= 19), \"13-19\")\n",
    "         .when((F.col(\"agep\") >= 20) & (F.col(\"agep\") <= 29), \"20-29\")\n",
    "         .when((F.col(\"agep\") >= 30) & (F.col(\"agep\") <= 39), \"30-39\")\n",
    "         .when((F.col(\"agep\") >= 40) & (F.col(\"agep\") <= 49), \"40-49\")\n",
    "         .when((F.col(\"agep\") >= 50) & (F.col(\"agep\") <= 59), \"50-59\")\n",
    "         .when(F.col(\"agep\") >= 60, \"60+\")\n",
    "         .otherwise(\"Unknown\"))\n",
    "    \n",
    "    df = df.withColumn(\"year\", F.lit(year))\n",
    "    \n",
    "    df = df.withColumnRenamed(\"boro\", \"borough\") \\\n",
    "           .withColumnRenamed(\"sex\", \"gender\") \\\n",
    "           .withColumnRenamed(\"age_group\", \"age\") \\\n",
    "           .withColumnRenamed(\"ethnicity\", \"race\")\n",
    "           \n",
    "    if \"agep\" in df.columns:\n",
    "        df = df.drop(\"agep\")\n",
    "    if \"agecateg\" in df.columns:\n",
    "        df = df.drop(\"agecateg\")\n",
    "    \n",
    "    print(f\"Final columns in processed_df: {df.columns}\")\n",
    "\n",
    "    \n",
    "    return df"
   ]
  },
  {
   "cell_type": "code",
   "execution_count": 0,
   "metadata": {
    "application/vnd.databricks.v1+cell": {
     "cellMetadata": {
      "byteLimit": 2048000,
      "rowLimit": 10000
     },
     "inputWidgets": {},
     "nuid": "7ecf25d9-18c5-455c-bd5f-ab6f228373fe",
     "showTitle": false,
     "tableResultSettingsMap": {},
     "title": ""
    }
   },
   "outputs": [],
   "source": [
    "processed_dfs = []\n",
    "for year in poverty_dfs.keys():\n",
    "    try:\n",
    "        processed_df = process_yearly_df(poverty_dfs[year], year)\n",
    "\n",
    "        if processed_df is None:\n",
    "            print(f\"Skipping further processing for year {year} due to None DataFrame\")\n",
    "            continue\n",
    "            \n",
    "        required_columns = [\"year\", \"borough\", \"gender\", \"age\", \"race\", \n",
    "                        \"serialno\", \"sporder\", \"pwgtp\", \"wgtp\"]\n",
    "\n",
    "        optional_columns = [\n",
    "            \"citizenstatus\", \"educattain\", \"family_type\", \n",
    "            \"work_experience\", \"total_work_hours\", \"disability_status\",\n",
    "            \"nycgov_income\", \"nycgov_pov_stat\", \"nycgov_threshold\", \n",
    "            \"off_pov_stat\", \"off_threshold\", \"pretaxincome_pu\"\n",
    "        ]\n",
    "\n",
    "        financial_columns = [\n",
    "            \"est_childcare\", \"est_commuting\", \"est_ficatax\", \"est_heap\", \n",
    "            \"est_housing\", \"est_incometax\", \"est_moop\", \"est_nutrition\", \n",
    "            \"est_povgap\", \"est_povgapindex\"\n",
    "        ]\n",
    "\n",
    "        actual_columns = set(processed_df.columns)\n",
    "        print(f\"Actual column names in DataFrame: {sorted(actual_columns)}\")\n",
    "\n",
    "        missing_required = [col for col in required_columns if col not in actual_columns]\n",
    "        if missing_required:\n",
    "            print(f\"ERROR: Missing required columns: {missing_required}\")\n",
    "\n",
    "        select_columns = []\n",
    "        for col_list in [required_columns, optional_columns, financial_columns]:\n",
    "            for col in col_list:\n",
    "                if col in actual_columns:\n",
    "                    select_columns.append(col)\n",
    "                else:\n",
    "                    print(f\"WARNING: Column '{col}' not found in DataFrame\")\n",
    "\n",
    "        print(f\"Selecting these columns: {select_columns}\")\n",
    "\n",
    "        if select_columns:\n",
    "            processed_df = processed_df.select(*select_columns)\n",
    "            processed_dfs.append(processed_df)\n",
    "            print(f\"Successfully selected {len(select_columns)} columns\")\n",
    "        else:\n",
    "            print(f\"ERROR: No columns to select for year {year}\")\n",
    "\n",
    "            print(f\"Processed data for year {year}: {processed_df.count()} rows\")\n",
    "    except Exception as e:\n",
    "        print(f\"Error processing data for year {year}: {str(e)}\")\n",
    "        continue\n"
   ]
  },
  {
   "cell_type": "markdown",
   "metadata": {
    "application/vnd.databricks.v1+cell": {
     "cellMetadata": {
      "byteLimit": 2048000,
      "rowLimit": 10000
     },
     "inputWidgets": {},
     "nuid": "d4eab8c8-6043-4496-b741-a94b4ac0075b",
     "showTitle": false,
     "tableResultSettingsMap": {},
     "title": ""
    }
   },
   "source": [
    "# WRITE TO Delta"
   ]
  },
  {
   "cell_type": "code",
   "execution_count": 0,
   "metadata": {
    "application/vnd.databricks.v1+cell": {
     "cellMetadata": {
      "byteLimit": 2048000,
      "rowLimit": 10000
     },
     "inputWidgets": {},
     "nuid": "6d1fe97c-84f4-4fbf-af12-27368665e3f8",
     "showTitle": false,
     "tableResultSettingsMap": {},
     "title": ""
    }
   },
   "outputs": [],
   "source": [
    "for i, df in enumerate(processed_dfs):\n",
    "    print(f\"DataFrame {i} columns: {df.columns}\")\n",
    "\n",
    "\n",
    "combined_poverty_df = processed_dfs[0]\n",
    "for i, df in enumerate(processed_dfs[1:], 1):\n",
    "    print(f\"Unioning DataFrame {i}\")\n",
    "    combined_poverty_df = combined_poverty_df.unionByName(df, allowMissingColumns=True)\n",
    "    print(f\"Combined DataFrame columns after union {i}: {combined_poverty_df.columns}\")\n",
    "\n",
    "silver_poverty_df = combined_poverty_df\n",
    "print(f\"Final silver_poverty_df columns: {silver_poverty_df.columns}\")"
   ]
  },
  {
   "cell_type": "code",
   "execution_count": 0,
   "metadata": {
    "application/vnd.databricks.v1+cell": {
     "cellMetadata": {
      "byteLimit": 2048000,
      "rowLimit": 10000
     },
     "inputWidgets": {},
     "nuid": "e7c40817-cc0d-45d5-abe0-73e93138baef",
     "showTitle": false,
     "tableResultSettingsMap": {},
     "title": ""
    }
   },
   "outputs": [],
   "source": [
    "try:\n",
    "    write_to_uc_table(\n",
    "        input_df=silver_poverty_df,\n",
    "        table_name=\"poverty_measure\",\n",
    "        mode=\"overwrite\",\n",
    "        catalog=\"catalog_de\",\n",
    "        schema=\"silver\"  \n",
    "    )\n",
    "    \n",
    "    print(f\"Successfully wrote {silver_poverty_df.count()} records to catalog_de.silver.poverty_measure\")\n",
    "except Exception as e:\n",
    "    print(f\"Error writing to silver layer: {str(e)}\")\n"
   ]
  },
  {
   "cell_type": "markdown",
   "metadata": {
    "application/vnd.databricks.v1+cell": {
     "cellMetadata": {
      "byteLimit": 2048000,
      "rowLimit": 10000
     },
     "inputWidgets": {},
     "nuid": "8d50fb37-f898-48d7-890d-3e00e119e799",
     "showTitle": false,
     "tableResultSettingsMap": {},
     "title": ""
    }
   },
   "source": [
    "&copy; 2025 Thoughtworks. All rights reserved.<br/>"
   ]
  }
 ],
 "metadata": {
  "application/vnd.databricks.v1+notebook": {
   "computePreferences": null,
   "dashboards": [],
   "environmentMetadata": {
    "base_environment": "",
    "environment_version": "2"
   },
   "language": "python",
   "notebookMetadata": {
    "pythonIndentUnit": 4
   },
   "notebookName": "3. Silver (unity catalog)",
   "widgets": {}
  },
  "language_info": {
   "name": "python"
  }
 },
 "nbformat": 4,
 "nbformat_minor": 0
}
