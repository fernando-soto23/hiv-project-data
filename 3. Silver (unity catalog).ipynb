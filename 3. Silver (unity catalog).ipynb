{
 "cells": [
  {
   "cell_type": "code",
   "execution_count": 0,
   "metadata": {
    "application/vnd.databricks.v1+cell": {
     "cellMetadata": {
      "byteLimit": 2048000,
      "rowLimit": 10000
     },
     "inputWidgets": {},
     "nuid": "ea363924-5492-4e6c-8935-f60a0945824d",
     "showTitle": false,
     "tableResultSettingsMap": {},
     "title": ""
    }
   },
   "outputs": [],
   "source": [
    "from pyspark.sql import SparkSession\n",
    "\n",
    "spark = SparkSession.builder \\\n",
    "    .appName(\"hiv-project\") \\\n",
    "    .getOrCreate()"
   ]
  },
  {
   "cell_type": "code",
   "execution_count": 0,
   "metadata": {
    "application/vnd.databricks.v1+cell": {
     "cellMetadata": {
      "byteLimit": 2048000,
      "rowLimit": 10000
     },
     "inputWidgets": {},
     "nuid": "d83c8eae-c76a-458c-a513-63f7c7b5d988",
     "showTitle": false,
     "tableResultSettingsMap": {},
     "title": ""
    }
   },
   "outputs": [],
   "source": [
    "%pip uninstall -y databricks_helpers exercise_ev_databricks_unit_tests\n",
    "%pip install git+https://github.com/data-derp/databricks_helpers#egg=databricks_helpers git+https://github.com/data-derp/exercise_ev_databricks_unit_tests#egg=exercise_ev_databricks_unit_tests"
   ]
  },
  {
   "cell_type": "code",
   "execution_count": 0,
   "metadata": {
    "application/vnd.databricks.v1+cell": {
     "cellMetadata": {
      "byteLimit": 2048000,
      "rowLimit": 10000
     },
     "inputWidgets": {},
     "nuid": "47d82a9a-b849-451d-8c57-e04909d92e98",
     "showTitle": false,
     "tableResultSettingsMap": {},
     "title": ""
    }
   },
   "outputs": [],
   "source": [
    "from databricks_helpers.databricks_helpers import DataDerpDatabricksHelpers\n",
    "exercise_name = \"hiv-project\"\n",
    "helpers = DataDerpDatabricksHelpers(dbutils, exercise_name)"
   ]
  },
  {
   "cell_type": "markdown",
   "metadata": {
    "application/vnd.databricks.v1+cell": {
     "cellMetadata": {
      "byteLimit": 2048000,
      "rowLimit": 10000
     },
     "inputWidgets": {},
     "nuid": "c8c2be2e-306d-4bed-bf86-010add972353",
     "showTitle": false,
     "tableResultSettingsMap": {},
     "title": ""
    }
   },
   "source": [
    "# SILVER"
   ]
  },
  {
   "cell_type": "markdown",
   "metadata": {
    "application/vnd.databricks.v1+cell": {
     "cellMetadata": {
      "byteLimit": 2048000,
      "rowLimit": 10000
     },
     "inputWidgets": {},
     "nuid": "e89d12f3-2a62-4297-9407-8c53460894d4",
     "showTitle": false,
     "tableResultSettingsMap": {},
     "title": ""
    }
   },
   "source": [
    "## Read from Bronze"
   ]
  },
  {
   "cell_type": "code",
   "execution_count": 0,
   "metadata": {
    "application/vnd.databricks.v1+cell": {
     "cellMetadata": {
      "byteLimit": 2048000,
      "rowLimit": 10000
     },
     "inputWidgets": {},
     "nuid": "1563ca10-e2f6-4e2b-b618-092b858d02ed",
     "showTitle": false,
     "tableResultSettingsMap": {},
     "title": ""
    }
   },
   "outputs": [],
   "source": [
    "\n",
    "def read_from_unity_catalog(table_name: str) -> DataFrame:\n",
    "    return spark.read.table(table_name)"
   ]
  },
  {
   "cell_type": "code",
   "execution_count": 0,
   "metadata": {
    "application/vnd.databricks.v1+cell": {
     "cellMetadata": {
      "byteLimit": 2048000,
      "rowLimit": 10000
     },
     "inputWidgets": {},
     "nuid": "05cd46b8-5d42-40a4-8879-eccbb6647ab7",
     "showTitle": false,
     "tableResultSettingsMap": {},
     "title": ""
    }
   },
   "outputs": [],
   "source": [
    "from pyspark.sql import DataFrame, SparkSession\n",
    "from pyspark.sql import functions as F\n",
    "from pyspark.sql.types import DoubleType, IntegerType, StringType\n",
    "from utils import write_to_uc_table\n",
    "from pyspark.sql.functions import col, when, lit, regexp_replace, isnan\n"
   ]
  },
  {
   "cell_type": "code",
   "execution_count": 0,
   "metadata": {
    "application/vnd.databricks.v1+cell": {
     "cellMetadata": {
      "byteLimit": 2048000,
      "rowLimit": 10000
     },
     "inputWidgets": {},
     "nuid": "abd8400d-cbcd-4c7b-b11d-3195affa30ab",
     "showTitle": false,
     "tableResultSettingsMap": {},
     "title": ""
    }
   },
   "outputs": [],
   "source": [
    "bronze_df = read_from_unity_catalog(\"catalog_de.bronze.raw_hiv_data\")\n"
   ]
  },
  {
   "cell_type": "code",
   "execution_count": 0,
   "metadata": {
    "application/vnd.databricks.v1+cell": {
     "cellMetadata": {
      "byteLimit": 2048000,
      "rowLimit": 10000
     },
     "inputWidgets": {},
     "nuid": "35dba9ac-9f81-43e1-9c6b-a2bb5ade972f",
     "showTitle": false,
     "tableResultSettingsMap": {},
     "title": ""
    }
   },
   "outputs": [],
   "source": [
    "available_years = [2011, 2012, 2013, 2014, 2015, 2017, 2018]\n",
    "poverty_dfs = {}\n",
    "\n",
    "for year in available_years:\n",
    "    poverty_dfs[year] = read_from_unity_catalog(f\"catalog_de.bronze.raw_poverty_{year}\")\n",
    "\n"
   ]
  },
  {
   "cell_type": "markdown",
   "metadata": {
    "application/vnd.databricks.v1+cell": {
     "cellMetadata": {},
     "inputWidgets": {},
     "nuid": "15764dd9-5a6e-47fa-8359-32ad274d5a87",
     "showTitle": false,
     "tableResultSettingsMap": {},
     "title": ""
    }
   },
   "source": [
    "hiv"
   ]
  },
  {
   "cell_type": "code",
   "execution_count": 0,
   "metadata": {
    "application/vnd.databricks.v1+cell": {
     "cellMetadata": {
      "byteLimit": 2048000,
      "rowLimit": 10000
     },
     "inputWidgets": {},
     "nuid": "932dba52-14e3-4bfe-826b-96275fc651d3",
     "showTitle": false,
     "tableResultSettingsMap": {},
     "title": ""
    }
   },
   "outputs": [],
   "source": [
    "hiv_silver = bronze_df.withColumn(\"hiv_diagnosis_rate\", \n",
    "                       when(col(\"hiv_diagnosis_rate\") == 99999, None).otherwise(col(\"hiv_diagnosis_rate\")))\n",
    "\n"
   ]
  },
  {
   "cell_type": "code",
   "execution_count": 0,
   "metadata": {
    "application/vnd.databricks.v1+cell": {
     "cellMetadata": {
      "byteLimit": 2048000,
      "rowLimit": 10000
     },
     "inputWidgets": {},
     "nuid": "98a72f13-4a8f-4747-bd55-9a2604c0f0ce",
     "showTitle": false,
     "tableResultSettingsMap": {},
     "title": ""
    }
   },
   "outputs": [],
   "source": [
    "hiv_silver = hiv_silver.withColumn(\"perc_linked_to_care_within_3_months\", \n",
    "                       when(col(\"perc_linked_to_care_within_3_months\") == 99999, None).otherwise(col(\"perc_linked_to_care_within_3_months\")))\n",
    "hiv_silver = hiv_silver.withColumn(\"aids_diagnoses\", \n",
    "                       when(col(\"aids_diagnoses\") == 99999, None).otherwise(col(\"aids_diagnoses\")))\n",
    "hiv_silver = hiv_silver.withColumn(\"aids_diagnosis_rate\", \n",
    "                       when(col(\"aids_diagnosis_rate\") == 99999, None).otherwise(col(\"aids_diagnosis_rate\")))\n",
    "hiv_silver = hiv_silver.withColumn(\"plwdhi_prevalence\", \n",
    "                       when(col(\"plwdhi_prevalence\") == 99999, None).otherwise(col(\"plwdhi_prevalence\")))\n",
    "hiv_silver = hiv_silver.withColumn(\"perc_viral_suppression\", \n",
    "                       when(col(\"perc_viral_suppression\") == 99999, None).otherwise(col(\"perc_viral_suppression\")))\n",
    "hiv_silver = hiv_silver.withColumn(\"deaths\", \n",
    "                       when(col(\"deaths\") == 99999, None).otherwise(col(\"deaths\")))\n",
    "hiv_silver = hiv_silver.withColumn(\"death_rate\", \n",
    "                       when(col(\"death_rate\") == 99999, None).otherwise(col(\"death_rate\")))\n",
    "hiv_silver = hiv_silver.withColumn(\"hiv_related_death_rate\", \n",
    "                       when(col(\"hiv_related_death_rate\") == 99999, None).otherwise(col(\"hiv_related_death_rate\")))\n",
    "hiv_silver = hiv_silver.withColumn(\"non_hiv_related_death_rate\", \n",
    "                       when(col(\"non_hiv_related_death_rate\") == 99999, None).otherwise(col(\"non_hiv_related_death_rate\")))"
   ]
  },
  {
   "cell_type": "code",
   "execution_count": 0,
   "metadata": {
    "application/vnd.databricks.v1+cell": {
     "cellMetadata": {
      "byteLimit": 2048000,
      "rowLimit": 10000
     },
     "inputWidgets": {},
     "nuid": "8ca5262f-8857-489f-8459-ee8cf47a15c8",
     "showTitle": false,
     "tableResultSettingsMap": {},
     "title": ""
    }
   },
   "outputs": [],
   "source": [
    "hiv_silver = hiv_silver.withColumn(\"age\", \n",
    "                       when(col(\"age\") == \"All\", \"All Ages\").otherwise(col(\"age\")))\n",
    "hiv_silver = hiv_silver.withColumn(\"race\", \n",
    "                       when(col(\"race\") == \"All\", \"All Races\").otherwise(col(\"race\")))\n",
    "hiv_silver = hiv_silver.withColumn(\"gender\", \n",
    "                       when(col(\"gender\") == \"All\", \"All Genders\").otherwise(col(\"gender\")))\n",
    "\n"
   ]
  },
  {
   "cell_type": "code",
   "execution_count": 0,
   "metadata": {
    "application/vnd.databricks.v1+cell": {
     "cellMetadata": {
      "byteLimit": 2048000,
      "rowLimit": 10000
     },
     "inputWidgets": {},
     "nuid": "0d389ae7-14a0-4ad9-b1a7-e9a2fdf172f1",
     "showTitle": false,
     "tableResultSettingsMap": {},
     "title": ""
    }
   },
   "outputs": [],
   "source": [
    "hiv_silver = hiv_silver.withColumn(\"borough\", \n",
    "                       when(col(\"borough\") == \"All\", \"Citywide\").otherwise(col(\"borough\")))\n",
    "hiv_silver = hiv_silver.withColumn(\"uhf\", \n",
    "                       when(col(\"uhf\") == \"All\", \"All UHF\").otherwise(col(\"uhf\")))\n"
   ]
  },
  {
   "cell_type": "code",
   "execution_count": 0,
   "metadata": {
    "application/vnd.databricks.v1+cell": {
     "cellMetadata": {
      "byteLimit": 2048000,
      "rowLimit": 10000
     },
     "inputWidgets": {},
     "nuid": "1aeabb68-724b-48b0-aeca-92e8dbfef1b1",
     "showTitle": false,
     "tableResultSettingsMap": {},
     "title": ""
    }
   },
   "outputs": [],
   "source": [
    "hiv_silver = hiv_silver.withColumn(\"perc_linked_to_care_within_3_months\", \n",
    "                       when(col(\"perc_linked_to_care_within_3_months\").isNotNull() & \n",
    "                            (col(\"perc_linked_to_care_within_3_months\") <= 1),\n",
    "                            col(\"perc_linked_to_care_within_3_months\") * 100).otherwise(col(\"perc_linked_to_care_within_3_months\")))\n",
    "hiv_silver = hiv_silver.withColumn(\"perc_viral_suppression\", \n",
    "                       when(col(\"perc_viral_suppression\").isNotNull() & \n",
    "                            (col(\"perc_viral_suppression\") <= 1),\n",
    "                            col(\"perc_viral_suppression\") * 100).otherwise(col(\"perc_viral_suppression\")))\n",
    "\n"
   ]
  },
  {
   "cell_type": "code",
   "execution_count": 0,
   "metadata": {
    "application/vnd.databricks.v1+cell": {
     "cellMetadata": {
      "byteLimit": 2048000,
      "rowLimit": 10000
     },
     "inputWidgets": {},
     "nuid": "aeff05eb-b38c-4abb-8223-31ece99d7d5e",
     "showTitle": false,
     "tableResultSettingsMap": {},
     "title": ""
    }
   },
   "outputs": [],
   "source": [
    "int_columns = [\"hiv_diagnoses\", \"concurrent_diagnoses\", \"aids_diagnoses\", \"deaths\"]\n",
    "for column in int_columns:\n",
    "    hiv_silver = hiv_silver.withColumn(column, \n",
    "                           when(col(column).isNotNull(), col(column).cast(\"integer\")).otherwise(None))\n"
   ]
  },
  {
   "cell_type": "code",
   "execution_count": 0,
   "metadata": {
    "application/vnd.databricks.v1+cell": {
     "cellMetadata": {
      "byteLimit": 2048000,
      "rowLimit": 10000
     },
     "inputWidgets": {},
     "nuid": "7295731f-8e10-4473-b97c-12d23288695d",
     "showTitle": false,
     "tableResultSettingsMap": {},
     "title": ""
    }
   },
   "outputs": [],
   "source": [
    "hiv_silver = hiv_silver.withColumn(\"race\", \n",
    "                  when(col(\"race\") == \"All\", \"All Races\")\n",
    "                  .when(col(\"race\") == \"Black\", \"Black\")\n",
    "                  .when(col(\"race\") == \"White\", \"White\")\n",
    "                  .when(col(\"race\") == \"Latino/Hispanic\", \"Hispanic\")\n",
    "                  .when(col(\"race\") == \"Latinx/Hispanic\", \"Hispanic\")\n",
    "                  .when(col(\"race\") == \"Asian/Pacific Islander\", \"Asian\")\n",
    "                  .when(col(\"race\") == \"Other/Unknown\", \"Other\")\n",
    "                  .otherwise(col(\"race\")))"
   ]
  },
  {
   "cell_type": "code",
   "execution_count": 0,
   "metadata": {
    "application/vnd.databricks.v1+cell": {
     "cellMetadata": {
      "byteLimit": 2048000,
      "rowLimit": 10000
     },
     "inputWidgets": {},
     "nuid": "4d5bfbb4-c08b-47e8-9170-fa5252b75cca",
     "showTitle": false,
     "tableResultSettingsMap": {},
     "title": ""
    }
   },
   "outputs": [],
   "source": [
    "hiv_silver = hiv_silver.withColumn(\"gender\", \n",
    "                      when(col(\"gender\") == \"All\", \"All Genders\")\n",
    "                      .when(col(\"gender\").isin(\"Male\", \"Men\"), \"Male\")\n",
    "                      .when(col(\"gender\").isin(\"Female\", \"Women\"), \"Female\")\n",
    "                      .when(col(\"gender\") == \"Transgender\", \"Transgender\")\n",
    "                      .otherwise(col(\"gender\")))\n"
   ]
  },
  {
   "cell_type": "code",
   "execution_count": 0,
   "metadata": {
    "application/vnd.databricks.v1+cell": {
     "cellMetadata": {
      "byteLimit": 2048000,
      "rowLimit": 10000
     },
     "inputWidgets": {},
     "nuid": "3fcd0e78-3cea-47ee-90b5-c502477c7ed4",
     "showTitle": false,
     "tableResultSettingsMap": {},
     "title": ""
    }
   },
   "outputs": [],
   "source": [
    "float_columns = [\"hiv_diagnosis_rate\", \"perc_linked_to_care_within_3_months\", \n",
    "                 \"aids_diagnosis_rate\", \"plwdhi_prevalence\", \"perc_viral_suppression\", \n",
    "                 \"death_rate\", \"hiv_related_death_rate\", \"non_hiv_related_death_rate\"]\n",
    "for column in float_columns:\n",
    "    hiv_silver = hiv_silver.withColumn(column, \n",
    "                           when(col(column).isNotNull(), col(column).cast(\"double\")).otherwise(None))\n"
   ]
  },
  {
   "cell_type": "code",
   "execution_count": 0,
   "metadata": {
    "application/vnd.databricks.v1+cell": {
     "cellMetadata": {
      "byteLimit": 2048000,
      "rowLimit": 10000
     },
     "inputWidgets": {},
     "nuid": "9d84f90c-1318-47cc-ac66-1de085abc612",
     "showTitle": false,
     "tableResultSettingsMap": {},
     "title": ""
    }
   },
   "outputs": [],
   "source": [
    "try:\n",
    "    write_to_uc_table(\n",
    "    input_df=hiv_silver,\n",
    "    table_name=\"hiv_data_clean\",\n",
    "    mode=\"overwrite\",\n",
    "    catalog=\"catalog_de\",\n",
    "    schema=\"silver\"\n",
    "    )\n",
    "except Exception as e:\n",
    "    print(f\"Error writing to silver layer: {str(e)}\")"
   ]
  },
  {
   "cell_type": "markdown",
   "metadata": {
    "application/vnd.databricks.v1+cell": {
     "cellMetadata": {
      "byteLimit": 2048000,
      "rowLimit": 10000
     },
     "inputWidgets": {},
     "nuid": "2217b447-3963-43ef-a12a-1e2b809ae21f",
     "showTitle": false,
     "tableResultSettingsMap": {},
     "title": ""
    }
   },
   "source": [
    "Poverty"
   ]
  },
  {
   "cell_type": "code",
   "execution_count": 0,
   "metadata": {
    "application/vnd.databricks.v1+cell": {
     "cellMetadata": {
      "byteLimit": 2048000,
      "rowLimit": 10000
     },
     "inputWidgets": {},
     "nuid": "369fa5b3-df7c-4d58-b77d-6a80bec1967b",
     "showTitle": false,
     "tableResultSettingsMap": {},
     "title": ""
    }
   },
   "outputs": [],
   "source": [
    "category_cols_ranges = {\n",
    "    \"cit\": (1, 5),         \n",
    "    \"rel\": (1, 20),        \n",
    "    \"sch\": (1, 3),         \n",
    "    \"schg\": (1, 25),       \n",
    "    \"schl\": (1, 24),       \n",
    "    \"sex\": (1, 2),         \n",
    "    \"esr\": (1, 6),         \n",
    "    \"lanx\": (1, 2),        \n",
    "    \"eng\": (1, 5),        \n",
    "    \"msp\": (1, 2),        \n",
    "    \"mar\": (1, 5),        \n",
    "    \"wkw\": (1, 3),         \n",
    "    \"dis\": (1, 2),       \n",
    "    \"jwtr\": (1, 12),       \n",
    "    \"ten\": (1, 4),        \n",
    "    \"hht\": (1, 7),        \n",
    "    \"agecateg\": (1, 7),    \n",
    "    \"boro\": (1, 5),       \n",
    "    \"citizenstatus\": (1, 3),\n",
    "    \"educattain\": (1, 5),   \n",
    "    \"ethnicity\": (1, 5),   \n",
    "    \"famtype_pu\": (1, 6),  \n",
    "    \"ftptwork\": (1, 4),     \n",
    "    \"nycgov_pov_stat\": (0, 1), \n",
    "    \"off_pov_stat\": (0, 1)  \n",
    "}"
   ]
  },
  {
   "cell_type": "code",
   "execution_count": 0,
   "metadata": {
    "application/vnd.databricks.v1+cell": {
     "cellMetadata": {
      "byteLimit": 2048000,
      "rowLimit": 10000
     },
     "inputWidgets": {},
     "nuid": "dd53101c-add1-4a3f-87e8-2fa789d7b07a",
     "showTitle": false,
     "tableResultSettingsMap": {},
     "title": ""
    }
   },
   "outputs": [],
   "source": [
    "category_cols_mappings = {\n",
    "    \"sex\": {\n",
    "        1: \"Male\",\n",
    "        2: \"Female\"\n",
    "    },\n",
    "    \"boro\": {\n",
    "        1: \"Bronx\",\n",
    "        2: \"Brooklyn\",\n",
    "        3: \"Manhattan\",\n",
    "        4: \"Queens\",\n",
    "        5: \"Staten Island\"\n",
    "    },\n",
    "    \"citizenstatus\": {\n",
    "        1: \"Citizen, native\",\n",
    "        2: \"Citizen, naturalized\",\n",
    "        3: \"Non-citizen\"\n",
    "    },\n",
    "    \"educattain\": {\n",
    "        1: \"Less than high school\",\n",
    "        2: \"High school diploma\",\n",
    "        3: \"Some college\",\n",
    "        4: \"Bachelor's degree\",\n",
    "        5: \"Graduate degree\"\n",
    "    },\n",
    "    \"ethnicity\": {\n",
    "        1: \"White\",\n",
    "        2: \"Black\",\n",
    "        3: \"Asian\",\n",
    "        4: \"Hispanic\",\n",
    "        5: \"Other\"\n",
    "    },\n",
    "    \"famtype_pu\": {\n",
    "        1: \"Married couple\",\n",
    "        2: \"Male householder, no spouse\",\n",
    "        3: \"Female householder, no spouse\",\n",
    "        4: \"Non-family household\",\n",
    "        5: \"Individual\",\n",
    "        6: \"Other\"\n",
    "    },\n",
    "    \"ftptwork\": {\n",
    "        1: \"Full-time, year-round\",\n",
    "        2: \"Part-time, year-round\",\n",
    "        3: \"Full-time, part-year\",\n",
    "        4: \"Part-time, part-year\"\n",
    "    },\n",
    "    \"dis\": {\n",
    "        1: \"With disability\",\n",
    "        2: \"Without disability\"\n",
    "    },\n",
    "    \"nycgov_pov_stat\": {\n",
    "        0: \"Not in poverty\",\n",
    "        1: \"In poverty\"\n",
    "    },\n",
    "    \"off_pov_stat\": {\n",
    "        0: \"Not in poverty\",\n",
    "        1: \"In poverty\"\n",
    "    },\n",
    "    \"ten\": {\n",
    "        1: \"Owned with mortgage\",\n",
    "        2: \"Owned free and clear\",\n",
    "        3: \"Rented\",\n",
    "        4: \"Occupied without payment\"\n",
    "    }\n",
    "}\n",
    "\n",
    "field_standardization = {\n",
    "        \"famtype_pu\": \"family_type\",\n",
    "        \"ftptwork\": \"work_experience\",\n",
    "        \"totalworkhrs_pu\": \"total_work_hours\"\n",
    "}"
   ]
  },
  {
   "cell_type": "code",
   "execution_count": 0,
   "metadata": {
    "application/vnd.databricks.v1+cell": {
     "cellMetadata": {
      "byteLimit": 2048000,
      "rowLimit": 10000
     },
     "inputWidgets": {},
     "nuid": "c0cd9c12-2204-40e2-8fd2-1af3c3d4963f",
     "showTitle": false,
     "tableResultSettingsMap": {},
     "title": ""
    }
   },
   "outputs": [],
   "source": [
    "numeric_cols = [\n",
    "    \"pwgtp\", \"wgtp\", \"agep\", \"est_childcare\", \"est_commuting\", \"est_eitc\", \n",
    "    \"est_ficatax\", \"est_heap\", \"est_housing\", \"est_incometax\", \"est_moop\", \n",
    "    \"est_nutrition\", \"est_povgap\", \"est_povgapindex\", \"intp_adj\", \"mrgp_adj\", \n",
    "    \"nycgov_income\", \"nycgov_threshold\", \"off_threshold\", \"oi_adj\", \"pa_adj\", \n",
    "    \"pretaxincome_pu\", \"retp_adj\", \"rntp_adj\", \"semp_adj\", \"ssip_adj\", \"ssp_adj\", \n",
    "    \"totalworkhrs_pu\", \"wagp_adj\"\n",
    "]"
   ]
  },
  {
   "cell_type": "code",
   "execution_count": 0,
   "metadata": {
    "application/vnd.databricks.v1+cell": {
     "cellMetadata": {
      "byteLimit": 2048000,
      "rowLimit": 10000
     },
     "inputWidgets": {},
     "nuid": "06a25c26-3667-45c6-8661-27ab53d8e5ea",
     "showTitle": false,
     "tableResultSettingsMap": {},
     "title": ""
    }
   },
   "outputs": [],
   "source": [
    "def process_yearly_df(df, year):\n",
    "    print(f\"Starting processing for {year}\")\n",
    "    if df is None:\n",
    "        print(f\"Cannot process data for year {year}: DataFrame is None\")\n",
    "        return None\n",
    "    \n",
    "    print(f\"Starting processing for year {year} with columns: {df.columns}\")\n",
    "\n",
    "    original_columns = df.columns\n",
    "    for col_name in original_columns:\n",
    "        df = df.withColumnRenamed(col_name, col_name.lower())\n",
    "\n",
    "    \n",
    "    initial_count = df.count()\n",
    "    df = df.dropDuplicates([\"serialno\", \"sporder\"])\n",
    "    final_count = df.count()\n",
    "    if initial_count != final_count:\n",
    "        print(f\"Removed {initial_count - final_count} duplicate records\")\n",
    "\n",
    "    key_columns = [\"serialno\", \"sporder\", \"pwgtp\", \"agep\", \"sex\"]\n",
    "    for col in key_columns:\n",
    "        if col in df.columns:\n",
    "            null_count = df.filter(F.col(col).isNull()).count()\n",
    "            if null_count > 0:\n",
    "                print(f\"Found {null_count} NULL values in key column '{col}'\")\n",
    "    \n",
    "    for col, (min_val, max_val) in category_cols_ranges.items():\n",
    "            if col in df.columns:\n",
    "                out_of_range_count = df.filter(\n",
    "                    ~F.col(col).between(min_val, max_val) & \n",
    "                    F.col(col).isNotNull()\n",
    "                ).count()\n",
    "                \n",
    "                if out_of_range_count > 0:\n",
    "                    print(f\"Column {col} has {out_of_range_count} values outside expected range ({min_val}-{max_val})\")\n",
    "                df = df.withColumn(\n",
    "                    col,\n",
    "                    F.when(\n",
    "                        F.col(col).between(min_val, max_val) | F.col(col).isNull(),\n",
    "                        F.col(col)\n",
    "                    ).otherwise(None)\n",
    "                )\n",
    "        \n",
    "    transformed_cols = []\n",
    "    for col, value_map in category_cols_mappings.items():\n",
    "        if col in df.columns:\n",
    "            mapping_expr = F.col(col)\n",
    "            for code, value in value_map.items():\n",
    "                mapping_expr = F.when(F.col(col) == code, value).otherwise(mapping_expr)\n",
    "                \n",
    "            df = df.withColumn(col, mapping_expr)\n",
    "            transformed_cols.append(col)\n",
    "    print(f\"Applied categorical mappings to {len(transformed_cols)} columns\")\n",
    "\n",
    "    field_standardization = {\n",
    "            \"famtype_pu\": \"family_type\",\n",
    "            \"ftptwork\": \"work_experience\",\n",
    "            \"totalworkhrs_pu\": \"total_work_hours\"\n",
    "        }\n",
    "    \n",
    "    for original_field, standardized_field in field_standardization.items():\n",
    "            if original_field in df.columns:\n",
    "                df = df.withColumn(standardized_field, F.col(original_field))\n",
    "\n",
    "    if \"dis\" in df.columns:\n",
    "        df = df.withColumn(\"disability_status\", F.col(\"dis\"))\n",
    "    for col in numeric_cols:\n",
    "        if col in df.columns:\n",
    "            can_be_negative = [\"semp_adj\", \"intp_adj\"]        \n",
    "            if col not in can_be_negative:\n",
    "                df = df.withColumn(\n",
    "                        col,\n",
    "                        F.when(F.col(col) < 0, None).otherwise(F.col(col))\n",
    "                    )\n",
    "        df = df.withColumn(col, F.col(col).cast(DoubleType()))\n",
    "    \n",
    "    print(f\"Standardized {len(numeric_cols)} numeric columns\")\n",
    "\n",
    "    df = df.withColumn(\"age_group\", \n",
    "            F.when(F.col(\"agep\") < 13, \"Under 13\")\n",
    "             .when((F.col(\"agep\") >= 13) & (F.col(\"agep\") <= 19), \"13-19\")\n",
    "             .when((F.col(\"agep\") >= 20) & (F.col(\"agep\") <= 29), \"20-29\")\n",
    "             .when((F.col(\"agep\") >= 30) & (F.col(\"agep\") <= 39), \"30-39\")\n",
    "             .when((F.col(\"agep\") >= 40) & (F.col(\"agep\") <= 49), \"40-49\")\n",
    "             .when((F.col(\"agep\") >= 50) & (F.col(\"agep\") <= 59), \"50-59\")\n",
    "             .when(F.col(\"agep\") >= 60, \"60+\")\n",
    "             .otherwise(\"Unknown\"))\n",
    "             \n",
    "    return df"
   ]
  },
  {
   "cell_type": "code",
   "execution_count": 0,
   "metadata": {
    "application/vnd.databricks.v1+cell": {
     "cellMetadata": {
      "byteLimit": 2048000,
      "rowLimit": 10000
     },
     "inputWidgets": {},
     "nuid": "7ecf25d9-18c5-455c-bd5f-ab6f228373fe",
     "showTitle": false,
     "tableResultSettingsMap": {},
     "title": ""
    }
   },
   "outputs": [],
   "source": [
    "processed_dfs = []\n",
    "for year in poverty_dfs.keys():\n",
    "    try:\n",
    "        processed_df = process_yearly_df(poverty_dfs[year], year)\n",
    "        \n",
    "        if processed_df is None:\n",
    "            print(f\"Skipping further processing for year {year} due to None DataFrame\")\n",
    "            continue\n",
    "            \n",
    "        core_columns = [\n",
    "            \"year\", \"serialno\", \"sporder\", \"pwgtp\", \"wgtp\", \"agep\", \"age_group\", \n",
    "            \"boro\", \"sex\"\n",
    "        ]\n",
    "\n",
    "        optional_columns = [\n",
    "            \"agecateg\", \"citizenstatus\", \"educattain\", \"ethnicity\", \"family_type\", \n",
    "            \"work_experience\", \"total_work_hours\", \"disability_status\",\n",
    "            \"est_housingstatus\", \"nycgov_income\", \"nycgov_pov_stat\", \"nycgov_threshold\", \n",
    "            \"off_pov_stat\", \"off_threshold\", \"pretaxincome_pu\"\n",
    "        ]\n",
    "\n",
    "        financial_columns = [\n",
    "            \"est_childcare\", \"est_commuting\", \"est_ficatax\", \"est_heap\", \n",
    "            \"est_housing\", \"est_incometax\", \"est_moop\", \"est_nutrition\", \n",
    "            \"est_povgap\", \"est_povgapindex\"\n",
    "        ]\n",
    "\n",
    "        all_columns = core_columns + [col for col in optional_columns + financial_columns \n",
    "                                     if col in processed_df.columns]\n",
    "\n",
    "        processed_df = processed_df.select([col for col in all_columns \n",
    "                                           if col in processed_df.columns])\n",
    "\n",
    "        processed_dfs.append(processed_df)\n",
    "\n",
    "        print(f\"Processed data for year {year}: {processed_df.count()} rows\")\n",
    "    except Exception as e:\n",
    "        print(f\"Error processing data for year {year}: {str(e)}\")\n",
    "        continue\n",
    "\n",
    "if processed_dfs:\n",
    "    combined_poverty_df = processed_dfs[0]\n",
    "    for df in processed_dfs[1:]:\n",
    "        combined_poverty_df = combined_poverty_df.unionByName(df, allowMissingColumns=True)\n",
    "    \n",
    "    print(f\"Combined data: {combined_poverty_df.count()} rows\")\n",
    "else:\n",
    "    print(\"No valid data to combine\")\n"
   ]
  },
  {
   "cell_type": "markdown",
   "metadata": {
    "application/vnd.databricks.v1+cell": {
     "cellMetadata": {
      "byteLimit": 2048000,
      "rowLimit": 10000
     },
     "inputWidgets": {},
     "nuid": "d4eab8c8-6043-4496-b741-a94b4ac0075b",
     "showTitle": false,
     "tableResultSettingsMap": {},
     "title": ""
    }
   },
   "source": [
    "# WRITE TO Delta"
   ]
  },
  {
   "cell_type": "code",
   "execution_count": 0,
   "metadata": {
    "application/vnd.databricks.v1+cell": {
     "cellMetadata": {
      "byteLimit": 2048000,
      "rowLimit": 10000
     },
     "inputWidgets": {},
     "nuid": "6d1fe97c-84f4-4fbf-af12-27368665e3f8",
     "showTitle": false,
     "tableResultSettingsMap": {},
     "title": ""
    }
   },
   "outputs": [],
   "source": [
    "silver_poverty_df = combined_poverty_df\n",
    "\n",
    "try:\n",
    "    write_to_uc_table(\n",
    "        input_df=silver_poverty_df,\n",
    "        table_name=\"poverty_measure\",\n",
    "        mode=\"overwrite\",\n",
    "        catalog=\"catalog_de\",\n",
    "        schema=\"silver\"  \n",
    "    )\n",
    "    \n",
    "    print(f\"Successfully wrote {silver_poverty_df.count()} records to catalog_de.silver.poverty_measure\")\n",
    "except Exception as e:\n",
    "    print(f\"Error writing to silver layer: {str(e)}\")\n"
   ]
  },
  {
   "cell_type": "markdown",
   "metadata": {
    "application/vnd.databricks.v1+cell": {
     "cellMetadata": {
      "byteLimit": 2048000,
      "rowLimit": 10000
     },
     "inputWidgets": {},
     "nuid": "8d50fb37-f898-48d7-890d-3e00e119e799",
     "showTitle": false,
     "tableResultSettingsMap": {},
     "title": ""
    }
   },
   "source": [
    "&copy; 2025 Thoughtworks. All rights reserved.<br/>"
   ]
  }
 ],
 "metadata": {
  "application/vnd.databricks.v1+notebook": {
   "computePreferences": null,
   "dashboards": [],
   "environmentMetadata": {
    "base_environment": "",
    "environment_version": "2"
   },
   "language": "python",
   "notebookMetadata": {
    "pythonIndentUnit": 4
   },
   "notebookName": "3. Silver (unity catalog)",
   "widgets": {}
  },
  "language_info": {
   "name": "python"
  }
 },
 "nbformat": 4,
 "nbformat_minor": 0
}
